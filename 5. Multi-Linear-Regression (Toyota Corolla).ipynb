{
 "cells": [
  {
   "cell_type": "markdown",
   "id": "7b9dd263",
   "metadata": {},
   "source": [
    "### Multi Linear Regression - Toyota Corolla"
   ]
  },
  {
   "cell_type": "code",
   "execution_count": 1,
   "id": "0fcbda2b",
   "metadata": {
    "ExecuteTime": {
     "end_time": "2022-02-11T03:08:27.009135Z",
     "start_time": "2022-02-11T03:08:26.247886Z"
    }
   },
   "outputs": [],
   "source": [
    "import numpy as np\n",
    "import pandas as pd\n",
    "import matplotlib.pyplot as plt\n",
    "%matplotlib inline\n",
    "import seaborn as sns\n",
    "from sklearn.metrics import mean_squared_error\n",
    "from collections import Counter\n",
    "from sklearn.linear_model import LinearRegression\n",
    "from sklearn.model_selection import train_test_split\n",
    "from sklearn.metrics import r2_score"
   ]
  },
  {
   "cell_type": "code",
   "execution_count": 2,
   "id": "f3b39552",
   "metadata": {
    "ExecuteTime": {
     "end_time": "2022-02-11T03:08:33.969065Z",
     "start_time": "2022-02-11T03:08:33.949119Z"
    }
   },
   "outputs": [],
   "source": [
    "toyota = pd.read_csv('ToyotaCorolla.csv',encoding= 'unicode_escape')"
   ]
  },
  {
   "cell_type": "code",
   "execution_count": 3,
   "id": "08ec6463",
   "metadata": {
    "ExecuteTime": {
     "end_time": "2022-02-11T03:08:39.780783Z",
     "start_time": "2022-02-11T03:08:39.753856Z"
    }
   },
   "outputs": [
    {
     "data": {
      "text/html": [
       "<div>\n",
       "<style scoped>\n",
       "    .dataframe tbody tr th:only-of-type {\n",
       "        vertical-align: middle;\n",
       "    }\n",
       "\n",
       "    .dataframe tbody tr th {\n",
       "        vertical-align: top;\n",
       "    }\n",
       "\n",
       "    .dataframe thead th {\n",
       "        text-align: right;\n",
       "    }\n",
       "</style>\n",
       "<table border=\"1\" class=\"dataframe\">\n",
       "  <thead>\n",
       "    <tr style=\"text-align: right;\">\n",
       "      <th></th>\n",
       "      <th>Id</th>\n",
       "      <th>Model</th>\n",
       "      <th>Price</th>\n",
       "      <th>Age_08_04</th>\n",
       "      <th>Mfg_Month</th>\n",
       "      <th>Mfg_Year</th>\n",
       "      <th>KM</th>\n",
       "      <th>Fuel_Type</th>\n",
       "      <th>HP</th>\n",
       "      <th>Met_Color</th>\n",
       "      <th>...</th>\n",
       "      <th>Central_Lock</th>\n",
       "      <th>Powered_Windows</th>\n",
       "      <th>Power_Steering</th>\n",
       "      <th>Radio</th>\n",
       "      <th>Mistlamps</th>\n",
       "      <th>Sport_Model</th>\n",
       "      <th>Backseat_Divider</th>\n",
       "      <th>Metallic_Rim</th>\n",
       "      <th>Radio_cassette</th>\n",
       "      <th>Tow_Bar</th>\n",
       "    </tr>\n",
       "  </thead>\n",
       "  <tbody>\n",
       "    <tr>\n",
       "      <th>0</th>\n",
       "      <td>1</td>\n",
       "      <td>TOYOTA Corolla 2.0 D4D HATCHB TERRA 2/3-Doors</td>\n",
       "      <td>13500</td>\n",
       "      <td>23</td>\n",
       "      <td>10</td>\n",
       "      <td>2002</td>\n",
       "      <td>46986</td>\n",
       "      <td>Diesel</td>\n",
       "      <td>90</td>\n",
       "      <td>1</td>\n",
       "      <td>...</td>\n",
       "      <td>1</td>\n",
       "      <td>1</td>\n",
       "      <td>1</td>\n",
       "      <td>0</td>\n",
       "      <td>0</td>\n",
       "      <td>0</td>\n",
       "      <td>1</td>\n",
       "      <td>0</td>\n",
       "      <td>0</td>\n",
       "      <td>0</td>\n",
       "    </tr>\n",
       "    <tr>\n",
       "      <th>1</th>\n",
       "      <td>2</td>\n",
       "      <td>TOYOTA Corolla 2.0 D4D HATCHB TERRA 2/3-Doors</td>\n",
       "      <td>13750</td>\n",
       "      <td>23</td>\n",
       "      <td>10</td>\n",
       "      <td>2002</td>\n",
       "      <td>72937</td>\n",
       "      <td>Diesel</td>\n",
       "      <td>90</td>\n",
       "      <td>1</td>\n",
       "      <td>...</td>\n",
       "      <td>1</td>\n",
       "      <td>0</td>\n",
       "      <td>1</td>\n",
       "      <td>0</td>\n",
       "      <td>0</td>\n",
       "      <td>0</td>\n",
       "      <td>1</td>\n",
       "      <td>0</td>\n",
       "      <td>0</td>\n",
       "      <td>0</td>\n",
       "    </tr>\n",
       "    <tr>\n",
       "      <th>2</th>\n",
       "      <td>3</td>\n",
       "      <td>TOYOTA Corolla 2.0 D4D HATCHB TERRA 2/3-Doors</td>\n",
       "      <td>13950</td>\n",
       "      <td>24</td>\n",
       "      <td>9</td>\n",
       "      <td>2002</td>\n",
       "      <td>41711</td>\n",
       "      <td>Diesel</td>\n",
       "      <td>90</td>\n",
       "      <td>1</td>\n",
       "      <td>...</td>\n",
       "      <td>0</td>\n",
       "      <td>0</td>\n",
       "      <td>1</td>\n",
       "      <td>0</td>\n",
       "      <td>0</td>\n",
       "      <td>0</td>\n",
       "      <td>1</td>\n",
       "      <td>0</td>\n",
       "      <td>0</td>\n",
       "      <td>0</td>\n",
       "    </tr>\n",
       "    <tr>\n",
       "      <th>3</th>\n",
       "      <td>4</td>\n",
       "      <td>TOYOTA Corolla 2.0 D4D HATCHB TERRA 2/3-Doors</td>\n",
       "      <td>14950</td>\n",
       "      <td>26</td>\n",
       "      <td>7</td>\n",
       "      <td>2002</td>\n",
       "      <td>48000</td>\n",
       "      <td>Diesel</td>\n",
       "      <td>90</td>\n",
       "      <td>0</td>\n",
       "      <td>...</td>\n",
       "      <td>0</td>\n",
       "      <td>0</td>\n",
       "      <td>1</td>\n",
       "      <td>0</td>\n",
       "      <td>0</td>\n",
       "      <td>0</td>\n",
       "      <td>1</td>\n",
       "      <td>0</td>\n",
       "      <td>0</td>\n",
       "      <td>0</td>\n",
       "    </tr>\n",
       "    <tr>\n",
       "      <th>4</th>\n",
       "      <td>5</td>\n",
       "      <td>TOYOTA Corolla 2.0 D4D HATCHB SOL 2/3-Doors</td>\n",
       "      <td>13750</td>\n",
       "      <td>30</td>\n",
       "      <td>3</td>\n",
       "      <td>2002</td>\n",
       "      <td>38500</td>\n",
       "      <td>Diesel</td>\n",
       "      <td>90</td>\n",
       "      <td>0</td>\n",
       "      <td>...</td>\n",
       "      <td>1</td>\n",
       "      <td>1</td>\n",
       "      <td>1</td>\n",
       "      <td>0</td>\n",
       "      <td>1</td>\n",
       "      <td>0</td>\n",
       "      <td>1</td>\n",
       "      <td>0</td>\n",
       "      <td>0</td>\n",
       "      <td>0</td>\n",
       "    </tr>\n",
       "  </tbody>\n",
       "</table>\n",
       "<p>5 rows × 38 columns</p>\n",
       "</div>"
      ],
      "text/plain": [
       "   Id                                           Model  Price  Age_08_04  \\\n",
       "0   1   TOYOTA Corolla 2.0 D4D HATCHB TERRA 2/3-Doors  13500         23   \n",
       "1   2   TOYOTA Corolla 2.0 D4D HATCHB TERRA 2/3-Doors  13750         23   \n",
       "2   3   TOYOTA Corolla 2.0 D4D HATCHB TERRA 2/3-Doors  13950         24   \n",
       "3   4   TOYOTA Corolla 2.0 D4D HATCHB TERRA 2/3-Doors  14950         26   \n",
       "4   5     TOYOTA Corolla 2.0 D4D HATCHB SOL 2/3-Doors  13750         30   \n",
       "\n",
       "   Mfg_Month  Mfg_Year     KM Fuel_Type  HP  Met_Color  ... Central_Lock  \\\n",
       "0         10      2002  46986    Diesel  90          1  ...            1   \n",
       "1         10      2002  72937    Diesel  90          1  ...            1   \n",
       "2          9      2002  41711    Diesel  90          1  ...            0   \n",
       "3          7      2002  48000    Diesel  90          0  ...            0   \n",
       "4          3      2002  38500    Diesel  90          0  ...            1   \n",
       "\n",
       "   Powered_Windows  Power_Steering  Radio  Mistlamps  Sport_Model  \\\n",
       "0                1               1      0          0            0   \n",
       "1                0               1      0          0            0   \n",
       "2                0               1      0          0            0   \n",
       "3                0               1      0          0            0   \n",
       "4                1               1      0          1            0   \n",
       "\n",
       "   Backseat_Divider  Metallic_Rim  Radio_cassette  Tow_Bar  \n",
       "0                 1             0               0        0  \n",
       "1                 1             0               0        0  \n",
       "2                 1             0               0        0  \n",
       "3                 1             0               0        0  \n",
       "4                 1             0               0        0  \n",
       "\n",
       "[5 rows x 38 columns]"
      ]
     },
     "execution_count": 3,
     "metadata": {},
     "output_type": "execute_result"
    }
   ],
   "source": [
    "toyota.head()"
   ]
  },
  {
   "cell_type": "code",
   "execution_count": 4,
   "id": "9cc32449",
   "metadata": {
    "ExecuteTime": {
     "end_time": "2022-02-11T03:08:52.900369Z",
     "start_time": "2022-02-11T03:08:52.886407Z"
    }
   },
   "outputs": [],
   "source": [
    "toyota1= toyota.iloc[:,[2,3,6,8,12,13,15,16,17]]"
   ]
  },
  {
   "cell_type": "code",
   "execution_count": 5,
   "id": "1162a13a",
   "metadata": {
    "ExecuteTime": {
     "end_time": "2022-02-11T03:08:59.029470Z",
     "start_time": "2022-02-11T03:08:59.017477Z"
    }
   },
   "outputs": [],
   "source": [
    "df = toyota1.rename(columns={\"Age_08_04\":\"Age\"})"
   ]
  },
  {
   "cell_type": "code",
   "execution_count": 6,
   "id": "9e33a9d2",
   "metadata": {
    "ExecuteTime": {
     "end_time": "2022-02-11T03:09:03.919227Z",
     "start_time": "2022-02-11T03:09:03.900277Z"
    }
   },
   "outputs": [
    {
     "data": {
      "text/plain": [
       "Price            1436\n",
       "Age              1436\n",
       "KM               1436\n",
       "HP               1436\n",
       "cc               1436\n",
       "Doors            1436\n",
       "Gears            1436\n",
       "Quarterly_Tax    1436\n",
       "Weight           1436\n",
       "dtype: int64"
      ]
     },
     "execution_count": 6,
     "metadata": {},
     "output_type": "execute_result"
    }
   ],
   "source": [
    "df.count()"
   ]
  },
  {
   "cell_type": "code",
   "execution_count": 7,
   "id": "658b88b4",
   "metadata": {
    "ExecuteTime": {
     "end_time": "2022-02-11T03:09:11.017239Z",
     "start_time": "2022-02-11T03:09:10.978343Z"
    }
   },
   "outputs": [
    {
     "data": {
      "text/html": [
       "<div>\n",
       "<style scoped>\n",
       "    .dataframe tbody tr th:only-of-type {\n",
       "        vertical-align: middle;\n",
       "    }\n",
       "\n",
       "    .dataframe tbody tr th {\n",
       "        vertical-align: top;\n",
       "    }\n",
       "\n",
       "    .dataframe thead th {\n",
       "        text-align: right;\n",
       "    }\n",
       "</style>\n",
       "<table border=\"1\" class=\"dataframe\">\n",
       "  <thead>\n",
       "    <tr style=\"text-align: right;\">\n",
       "      <th></th>\n",
       "      <th>Price</th>\n",
       "      <th>Age</th>\n",
       "      <th>KM</th>\n",
       "      <th>HP</th>\n",
       "      <th>cc</th>\n",
       "      <th>Doors</th>\n",
       "      <th>Gears</th>\n",
       "      <th>Quarterly_Tax</th>\n",
       "      <th>Weight</th>\n",
       "    </tr>\n",
       "  </thead>\n",
       "  <tbody>\n",
       "    <tr>\n",
       "      <th>count</th>\n",
       "      <td>1436.000000</td>\n",
       "      <td>1436.000000</td>\n",
       "      <td>1436.000000</td>\n",
       "      <td>1436.000000</td>\n",
       "      <td>1436.00000</td>\n",
       "      <td>1436.000000</td>\n",
       "      <td>1436.000000</td>\n",
       "      <td>1436.000000</td>\n",
       "      <td>1436.00000</td>\n",
       "    </tr>\n",
       "    <tr>\n",
       "      <th>mean</th>\n",
       "      <td>10730.824513</td>\n",
       "      <td>55.947075</td>\n",
       "      <td>68533.259749</td>\n",
       "      <td>101.502089</td>\n",
       "      <td>1576.85585</td>\n",
       "      <td>4.033426</td>\n",
       "      <td>5.026462</td>\n",
       "      <td>87.122563</td>\n",
       "      <td>1072.45961</td>\n",
       "    </tr>\n",
       "    <tr>\n",
       "      <th>std</th>\n",
       "      <td>3626.964585</td>\n",
       "      <td>18.599988</td>\n",
       "      <td>37506.448872</td>\n",
       "      <td>14.981080</td>\n",
       "      <td>424.38677</td>\n",
       "      <td>0.952677</td>\n",
       "      <td>0.188510</td>\n",
       "      <td>41.128611</td>\n",
       "      <td>52.64112</td>\n",
       "    </tr>\n",
       "    <tr>\n",
       "      <th>min</th>\n",
       "      <td>4350.000000</td>\n",
       "      <td>1.000000</td>\n",
       "      <td>1.000000</td>\n",
       "      <td>69.000000</td>\n",
       "      <td>1300.00000</td>\n",
       "      <td>2.000000</td>\n",
       "      <td>3.000000</td>\n",
       "      <td>19.000000</td>\n",
       "      <td>1000.00000</td>\n",
       "    </tr>\n",
       "    <tr>\n",
       "      <th>25%</th>\n",
       "      <td>8450.000000</td>\n",
       "      <td>44.000000</td>\n",
       "      <td>43000.000000</td>\n",
       "      <td>90.000000</td>\n",
       "      <td>1400.00000</td>\n",
       "      <td>3.000000</td>\n",
       "      <td>5.000000</td>\n",
       "      <td>69.000000</td>\n",
       "      <td>1040.00000</td>\n",
       "    </tr>\n",
       "    <tr>\n",
       "      <th>50%</th>\n",
       "      <td>9900.000000</td>\n",
       "      <td>61.000000</td>\n",
       "      <td>63389.500000</td>\n",
       "      <td>110.000000</td>\n",
       "      <td>1600.00000</td>\n",
       "      <td>4.000000</td>\n",
       "      <td>5.000000</td>\n",
       "      <td>85.000000</td>\n",
       "      <td>1070.00000</td>\n",
       "    </tr>\n",
       "    <tr>\n",
       "      <th>75%</th>\n",
       "      <td>11950.000000</td>\n",
       "      <td>70.000000</td>\n",
       "      <td>87020.750000</td>\n",
       "      <td>110.000000</td>\n",
       "      <td>1600.00000</td>\n",
       "      <td>5.000000</td>\n",
       "      <td>5.000000</td>\n",
       "      <td>85.000000</td>\n",
       "      <td>1085.00000</td>\n",
       "    </tr>\n",
       "    <tr>\n",
       "      <th>max</th>\n",
       "      <td>32500.000000</td>\n",
       "      <td>80.000000</td>\n",
       "      <td>243000.000000</td>\n",
       "      <td>192.000000</td>\n",
       "      <td>16000.00000</td>\n",
       "      <td>5.000000</td>\n",
       "      <td>6.000000</td>\n",
       "      <td>283.000000</td>\n",
       "      <td>1615.00000</td>\n",
       "    </tr>\n",
       "  </tbody>\n",
       "</table>\n",
       "</div>"
      ],
      "text/plain": [
       "              Price          Age             KM           HP           cc  \\\n",
       "count   1436.000000  1436.000000    1436.000000  1436.000000   1436.00000   \n",
       "mean   10730.824513    55.947075   68533.259749   101.502089   1576.85585   \n",
       "std     3626.964585    18.599988   37506.448872    14.981080    424.38677   \n",
       "min     4350.000000     1.000000       1.000000    69.000000   1300.00000   \n",
       "25%     8450.000000    44.000000   43000.000000    90.000000   1400.00000   \n",
       "50%     9900.000000    61.000000   63389.500000   110.000000   1600.00000   \n",
       "75%    11950.000000    70.000000   87020.750000   110.000000   1600.00000   \n",
       "max    32500.000000    80.000000  243000.000000   192.000000  16000.00000   \n",
       "\n",
       "             Doors        Gears  Quarterly_Tax      Weight  \n",
       "count  1436.000000  1436.000000    1436.000000  1436.00000  \n",
       "mean      4.033426     5.026462      87.122563  1072.45961  \n",
       "std       0.952677     0.188510      41.128611    52.64112  \n",
       "min       2.000000     3.000000      19.000000  1000.00000  \n",
       "25%       3.000000     5.000000      69.000000  1040.00000  \n",
       "50%       4.000000     5.000000      85.000000  1070.00000  \n",
       "75%       5.000000     5.000000      85.000000  1085.00000  \n",
       "max       5.000000     6.000000     283.000000  1615.00000  "
      ]
     },
     "execution_count": 7,
     "metadata": {},
     "output_type": "execute_result"
    }
   ],
   "source": [
    "df.describe()"
   ]
  },
  {
   "cell_type": "markdown",
   "id": "95f33b43",
   "metadata": {},
   "source": [
    "### Data Processing and Visualization"
   ]
  },
  {
   "cell_type": "code",
   "execution_count": 8,
   "id": "6b0488eb",
   "metadata": {
    "ExecuteTime": {
     "end_time": "2022-02-11T03:09:30.266587Z",
     "start_time": "2022-02-11T03:09:30.247627Z"
    }
   },
   "outputs": [
    {
     "data": {
      "text/plain": [
       "Price            0\n",
       "Age              0\n",
       "KM               0\n",
       "HP               0\n",
       "cc               0\n",
       "Doors            0\n",
       "Gears            0\n",
       "Quarterly_Tax    0\n",
       "Weight           0\n",
       "dtype: int64"
      ]
     },
     "execution_count": 8,
     "metadata": {},
     "output_type": "execute_result"
    }
   ],
   "source": [
    "df.isnull().sum()"
   ]
  },
  {
   "cell_type": "code",
   "execution_count": 9,
   "id": "163a70a0",
   "metadata": {
    "ExecuteTime": {
     "end_time": "2022-02-11T03:09:36.227809Z",
     "start_time": "2022-02-11T03:09:36.212849Z"
    }
   },
   "outputs": [],
   "source": [
    "corr = df.corr()"
   ]
  },
  {
   "cell_type": "code",
   "execution_count": 10,
   "id": "8ffb19d3",
   "metadata": {
    "ExecuteTime": {
     "end_time": "2022-02-11T03:09:47.426635Z",
     "start_time": "2022-02-11T03:09:46.721367Z"
    }
   },
   "outputs": [
    {
     "data": {
      "text/plain": [
       "<AxesSubplot:>"
      ]
     },
     "execution_count": 10,
     "metadata": {},
     "output_type": "execute_result"
    },
    {
     "data": {
      "image/png": "[encoded data removed]",
      "text/plain": [
       "<Figure size 576x576 with 2 Axes>"
      ]
     },
     "metadata": {
      "needs_background": "light"
     },
     "output_type": "display_data"
    }
   ],
   "source": [
    "plt.figure(figsize=(8,8))\n",
    "sns.heatmap(corr, annot=True,fmt = \".2f\")"
   ]
  },
  {
   "cell_type": "code",
   "execution_count": 11,
   "id": "0e6ec63e",
   "metadata": {
    "ExecuteTime": {
     "end_time": "2022-02-11T03:10:07.150068Z",
     "start_time": "2022-02-11T03:10:06.213330Z"
    }
   },
   "outputs": [
    {
     "data": {
      "image/png": "[encoded data removed]",
      "text/plain": [
       "<Figure size 864x576 with 4 Axes>"
      ]
     },
     "metadata": {
      "needs_background": "light"
     },
     "output_type": "display_data"
    }
   ],
   "source": [
    "# plot regplots  for Age, KM, CC & HP against Price\n",
    "f, axes = plt.subplots(2,2, figsize=(12,8))\n",
    "# Age Vs Price\n",
    "sns.regplot(x = 'Price', y = 'Age', data = df, ax = axes[0,0], scatter_kws={\"color\": \"yellow\"}, line_kws={\"color\": \"black\"})\n",
    "axes[0,0].set_xlabel('Price', fontsize = 14)\n",
    "axes[0,0].set_ylabel('Age', fontsize=14)\n",
    "axes[0,0].yaxis.tick_left()\n",
    "\n",
    "# KM Vs Price\n",
    "sns.regplot(x = 'Price', y = 'KM', data = df, ax = axes[0,1], scatter_kws={\"color\": \"red\"}, line_kws={\"color\": \"black\"})\n",
    "axes[0,1].set_xlabel('Price', fontsize = 14)\n",
    "axes[0,1].set_ylabel('KM', fontsize=14)\n",
    "axes[0,1].yaxis.set_label_position(\"right\")\n",
    "axes[0,1].yaxis.tick_right()\n",
    "\n",
    "# CC Vs Price\n",
    "sns.regplot(x = 'Price', y = 'cc', data = df, ax = axes[1,0], scatter_kws={\"color\": \"blue\"}, line_kws={\"color\": \"black\"})\n",
    "axes[1,0].set_xlabel('Price', fontsize = 14)\n",
    "axes[1,0].set_ylabel('CC', fontsize=14)\n",
    "axes[1,0].yaxis.tick_left()\n",
    "\n",
    "# Weight Vs Price\n",
    "sns.regplot(x = 'Price', y = 'Weight', data = df, ax = axes[1,1], scatter_kws={\"color\": \"green\"}, line_kws={\"color\": \"black\"})\n",
    "axes[1,1].set_xlabel('Price', fontsize = 14)\n",
    "axes[1,1].set_ylabel('Weight', fontsize=14)\n",
    "axes[1,1].yaxis.set_label_position(\"right\")\n",
    "axes[1,1].yaxis.tick_right()\n",
    "\n",
    "plt.show()"
   ]
  },
  {
   "cell_type": "code",
   "execution_count": 12,
   "id": "fe963fb7",
   "metadata": {
    "ExecuteTime": {
     "end_time": "2022-02-11T03:10:17.393731Z",
     "start_time": "2022-02-11T03:10:17.373789Z"
    }
   },
   "outputs": [],
   "source": [
    "# Create the clasiification.\n",
    "df = pd.get_dummies(df)"
   ]
  },
  {
   "cell_type": "code",
   "execution_count": 13,
   "id": "a73cc4d6",
   "metadata": {
    "ExecuteTime": {
     "end_time": "2022-02-11T03:10:23.131305Z",
     "start_time": "2022-02-11T03:10:23.120360Z"
    }
   },
   "outputs": [
    {
     "data": {
      "text/html": [
       "<div>\n",
       "<style scoped>\n",
       "    .dataframe tbody tr th:only-of-type {\n",
       "        vertical-align: middle;\n",
       "    }\n",
       "\n",
       "    .dataframe tbody tr th {\n",
       "        vertical-align: top;\n",
       "    }\n",
       "\n",
       "    .dataframe thead th {\n",
       "        text-align: right;\n",
       "    }\n",
       "</style>\n",
       "<table border=\"1\" class=\"dataframe\">\n",
       "  <thead>\n",
       "    <tr style=\"text-align: right;\">\n",
       "      <th></th>\n",
       "      <th>Price</th>\n",
       "      <th>Age</th>\n",
       "      <th>KM</th>\n",
       "      <th>HP</th>\n",
       "      <th>cc</th>\n",
       "      <th>Doors</th>\n",
       "      <th>Gears</th>\n",
       "      <th>Quarterly_Tax</th>\n",
       "      <th>Weight</th>\n",
       "    </tr>\n",
       "  </thead>\n",
       "  <tbody>\n",
       "    <tr>\n",
       "      <th>0</th>\n",
       "      <td>13500</td>\n",
       "      <td>23</td>\n",
       "      <td>46986</td>\n",
       "      <td>90</td>\n",
       "      <td>2000</td>\n",
       "      <td>3</td>\n",
       "      <td>5</td>\n",
       "      <td>210</td>\n",
       "      <td>1165</td>\n",
       "    </tr>\n",
       "    <tr>\n",
       "      <th>1</th>\n",
       "      <td>13750</td>\n",
       "      <td>23</td>\n",
       "      <td>72937</td>\n",
       "      <td>90</td>\n",
       "      <td>2000</td>\n",
       "      <td>3</td>\n",
       "      <td>5</td>\n",
       "      <td>210</td>\n",
       "      <td>1165</td>\n",
       "    </tr>\n",
       "    <tr>\n",
       "      <th>2</th>\n",
       "      <td>13950</td>\n",
       "      <td>24</td>\n",
       "      <td>41711</td>\n",
       "      <td>90</td>\n",
       "      <td>2000</td>\n",
       "      <td>3</td>\n",
       "      <td>5</td>\n",
       "      <td>210</td>\n",
       "      <td>1165</td>\n",
       "    </tr>\n",
       "    <tr>\n",
       "      <th>3</th>\n",
       "      <td>14950</td>\n",
       "      <td>26</td>\n",
       "      <td>48000</td>\n",
       "      <td>90</td>\n",
       "      <td>2000</td>\n",
       "      <td>3</td>\n",
       "      <td>5</td>\n",
       "      <td>210</td>\n",
       "      <td>1165</td>\n",
       "    </tr>\n",
       "    <tr>\n",
       "      <th>4</th>\n",
       "      <td>13750</td>\n",
       "      <td>30</td>\n",
       "      <td>38500</td>\n",
       "      <td>90</td>\n",
       "      <td>2000</td>\n",
       "      <td>3</td>\n",
       "      <td>5</td>\n",
       "      <td>210</td>\n",
       "      <td>1170</td>\n",
       "    </tr>\n",
       "  </tbody>\n",
       "</table>\n",
       "</div>"
      ],
      "text/plain": [
       "   Price  Age     KM  HP    cc  Doors  Gears  Quarterly_Tax  Weight\n",
       "0  13500   23  46986  90  2000      3      5            210    1165\n",
       "1  13750   23  72937  90  2000      3      5            210    1165\n",
       "2  13950   24  41711  90  2000      3      5            210    1165\n",
       "3  14950   26  48000  90  2000      3      5            210    1165\n",
       "4  13750   30  38500  90  2000      3      5            210    1170"
      ]
     },
     "execution_count": 13,
     "metadata": {},
     "output_type": "execute_result"
    }
   ],
   "source": [
    "df.head()"
   ]
  },
  {
   "cell_type": "markdown",
   "id": "e6e49cc5",
   "metadata": {
    "ExecuteTime": {
     "end_time": "2022-02-11T03:10:30.494721Z",
     "start_time": "2022-02-11T03:10:30.487740Z"
    }
   },
   "source": [
    "### Multi Linear Regression"
   ]
  },
  {
   "cell_type": "code",
   "execution_count": 15,
   "id": "b7706737",
   "metadata": {
    "ExecuteTime": {
     "end_time": "2022-02-11T03:10:42.577424Z",
     "start_time": "2022-02-11T03:10:42.562464Z"
    }
   },
   "outputs": [],
   "source": [
    "# Separating the independent and dependent variable.\n",
    "X_lr = df.drop('Price', axis = 1).values\n",
    "y_lr = df[\"Price\"].values.reshape(-1,1)"
   ]
  },
  {
   "cell_type": "code",
   "execution_count": 16,
   "id": "cadc8b85",
   "metadata": {
    "ExecuteTime": {
     "end_time": "2022-02-11T03:10:50.909780Z",
     "start_time": "2022-02-11T03:10:50.897814Z"
    }
   },
   "outputs": [],
   "source": [
    "X_lr, X_lr, y_lr, y_lr = train_test_split(X_lr,y_lr, test_size = 0.25, random_state = 4)"
   ]
  },
  {
   "cell_type": "code",
   "execution_count": 17,
   "id": "00f42a86",
   "metadata": {
    "ExecuteTime": {
     "end_time": "2022-02-11T03:10:57.193908Z",
     "start_time": "2022-02-11T03:10:57.185930Z"
    }
   },
   "outputs": [
    {
     "name": "stdout",
     "output_type": "stream",
     "text": [
      "Train Dataset :  (359, 8) (359, 1)\n",
      "Test Dataset :  (359, 8) (359, 1)\n"
     ]
    }
   ],
   "source": [
    "print('Train Dataset : ', X_lr.shape, y_lr.shape)\n",
    "print('Test Dataset : ', X_lr.shape, y_lr.shape)"
   ]
  },
  {
   "cell_type": "code",
   "execution_count": 18,
   "id": "9c1b23e7",
   "metadata": {
    "ExecuteTime": {
     "end_time": "2022-02-11T03:11:05.761597Z",
     "start_time": "2022-02-11T03:11:05.744541Z"
    }
   },
   "outputs": [
    {
     "data": {
      "text/plain": [
       "LinearRegression()"
      ]
     },
     "execution_count": 18,
     "metadata": {},
     "output_type": "execute_result"
    }
   ],
   "source": [
    "multi_lreg = LinearRegression()\n",
    "multi_lreg.fit(X_lr, y_lr)"
   ]
  },
  {
   "cell_type": "code",
   "execution_count": 19,
   "id": "b43ab69c",
   "metadata": {
    "ExecuteTime": {
     "end_time": "2022-02-11T03:11:12.372634Z",
     "start_time": "2022-02-11T03:11:12.277694Z"
    }
   },
   "outputs": [
    {
     "name": "stdout",
     "output_type": "stream",
     "text": [
      "Intercept :  [-3596.99699554]\n",
      "Slope :  [[-1.23463386e+02 -1.91089207e-02  4.20535431e+01 -2.25838706e+00\n",
      "  -1.43762492e+01  2.92873453e+02  1.17336247e+01  1.81493782e+01]]\n"
     ]
    }
   ],
   "source": [
    "print('Intercept : ', multi_lreg.intercept_)\n",
    "print('Slope : ', multi_lreg.coef_)"
   ]
  },
  {
   "cell_type": "code",
   "execution_count": 20,
   "id": "5ce5d7ee",
   "metadata": {
    "ExecuteTime": {
     "end_time": "2022-02-11T03:11:18.671048Z",
     "start_time": "2022-02-11T03:11:18.659079Z"
    }
   },
   "outputs": [],
   "source": [
    "#Use the model to predict the test dataset.\n",
    "y_mlreg_pred_test = multi_lreg.predict(X_lr)"
   ]
  },
  {
   "cell_type": "code",
   "execution_count": 21,
   "id": "13efb743",
   "metadata": {
    "ExecuteTime": {
     "end_time": "2022-02-11T03:11:25.487476Z",
     "start_time": "2022-02-11T03:11:25.479496Z"
    }
   },
   "outputs": [],
   "source": [
    "# Use the model to predict the train dataset.\n",
    "y_mlreg_pred_train = multi_lreg.predict(X_lr)"
   ]
  },
  {
   "cell_type": "code",
   "execution_count": 22,
   "id": "40a856c7",
   "metadata": {
    "ExecuteTime": {
     "end_time": "2022-02-11T03:11:30.841792Z",
     "start_time": "2022-02-11T03:11:30.826833Z"
    }
   },
   "outputs": [
    {
     "name": "stdout",
     "output_type": "stream",
     "text": [
      "[[ 7871.92740459]\n",
      " [10235.02437556]\n",
      " [ 9779.53765687]\n",
      " [11887.69548261]\n",
      " [ 8878.4185755 ]]\n",
      "[[8950]\n",
      " [9850]\n",
      " [8250]\n",
      " [9750]\n",
      " [9250]]\n",
      "[[ 7871.92740459]\n",
      " [10235.02437556]\n",
      " [ 9779.53765687]\n",
      " [11887.69548261]\n",
      " [ 8878.4185755 ]]\n",
      "[[8950]\n",
      " [9850]\n",
      " [8250]\n",
      " [9750]\n",
      " [9250]]\n"
     ]
    }
   ],
   "source": [
    "# Have a look at the predicted & actual values.\n",
    "print(y_mlreg_pred_test[0:5])\n",
    "print(y_lr[0:5])\n",
    "\n",
    "print(y_mlreg_pred_train[0:5])\n",
    "print(y_lr[0:5])"
   ]
  },
  {
   "cell_type": "markdown",
   "id": "a7ed6af8",
   "metadata": {},
   "source": [
    "#### R2 Score"
   ]
  },
  {
   "cell_type": "code",
   "execution_count": 23,
   "id": "07fb627b",
   "metadata": {
    "ExecuteTime": {
     "end_time": "2022-02-11T03:11:58.912274Z",
     "start_time": "2022-02-11T03:11:58.893325Z"
    }
   },
   "outputs": [
    {
     "name": "stdout",
     "output_type": "stream",
     "text": [
      "r2_ score for train dataset for multi linear reg :  0.8671239750430744\n",
      "r2_ score for test dataset for multi linear reg :  0.8671239750430744\n",
      "root mean squared error for multi linear reg :  1725837.2553617805\n"
     ]
    }
   ],
   "source": [
    "# Calculate the eualuation metrics of the model.\n",
    "r2_score_mlreg_train = r2_score(y_mlreg_pred_train, y_lr)\n",
    "r2_score_mlreg_test = r2_score(y_mlreg_pred_test, y_lr)\n",
    "rmse_mlreg = np.sqrt(mean_squared_error(y_mlreg_pred_test, y_lr)**2)\n",
    "print('r2_ score for train dataset for multi linear reg : ', r2_score_mlreg_train)\n",
    "print('r2_ score for test dataset for multi linear reg : ', r2_score_mlreg_test)\n",
    "print('root mean squared error for multi linear reg : ', rmse_mlreg)"
   ]
  },
  {
   "cell_type": "markdown",
   "id": "e837d8dc",
   "metadata": {},
   "source": [
    "#### Ridge Regression"
   ]
  },
  {
   "cell_type": "code",
   "execution_count": 24,
   "id": "fae639d4",
   "metadata": {
    "ExecuteTime": {
     "end_time": "2022-02-11T03:12:17.931851Z",
     "start_time": "2022-02-11T03:12:17.921880Z"
    }
   },
   "outputs": [],
   "source": [
    "# Separating the independent and dependent variable.\n",
    "X_ridge_reg = df.drop('Price', axis = 1).values\n",
    "y_ridge_reg = df[\"Price\"].values.reshape(-1,1)"
   ]
  },
  {
   "cell_type": "code",
   "execution_count": 25,
   "id": "e17e46bb",
   "metadata": {
    "ExecuteTime": {
     "end_time": "2022-02-11T03:12:26.874139Z",
     "start_time": "2022-02-11T03:12:26.859103Z"
    }
   },
   "outputs": [
    {
     "name": "stdout",
     "output_type": "stream",
     "text": [
      "Train Dataset :  (1077, 8) (1077, 1)\n",
      "Test Dataset :  (359, 8) (359, 1)\n"
     ]
    }
   ],
   "source": [
    "# Create train test dataset\n",
    "X_train_ridge_reg, X_test_ridge_reg, y_train_ridge_reg, y_test_ridge_reg = train_test_split(X_ridge_reg,y_ridge_reg, test_size = 0.25, random_state = 4)\n",
    "print('Train Dataset : ', X_train_ridge_reg.shape, y_train_ridge_reg.shape)\n",
    "print('Test Dataset : ', X_test_ridge_reg.shape, y_test_ridge_reg.shape)"
   ]
  },
  {
   "cell_type": "code",
   "execution_count": 26,
   "id": "d48ee15b",
   "metadata": {
    "ExecuteTime": {
     "end_time": "2022-02-11T03:12:37.022730Z",
     "start_time": "2022-02-11T03:12:37.012784Z"
    }
   },
   "outputs": [],
   "source": [
    "from sklearn.linear_model import Ridge"
   ]
  },
  {
   "cell_type": "code",
   "execution_count": 27,
   "id": "d978c4ec",
   "metadata": {
    "ExecuteTime": {
     "end_time": "2022-02-11T03:12:44.576032Z",
     "start_time": "2022-02-11T03:12:44.558080Z"
    }
   },
   "outputs": [
    {
     "data": {
      "text/plain": [
       "Ridge(alpha=0.05, normalize=True)"
      ]
     },
     "execution_count": 27,
     "metadata": {},
     "output_type": "execute_result"
    }
   ],
   "source": [
    "## training the model\n",
    "\n",
    "ridgeReg = Ridge(alpha=0.05, normalize=True)\n",
    "\n",
    "ridgeReg.fit(X_train_ridge_reg,y_train_ridge_reg)"
   ]
  },
  {
   "cell_type": "code",
   "execution_count": 28,
   "id": "5c25c3bf",
   "metadata": {
    "ExecuteTime": {
     "end_time": "2022-02-11T03:12:50.955158Z",
     "start_time": "2022-02-11T03:12:50.944160Z"
    }
   },
   "outputs": [],
   "source": [
    "# Use the model to predict the test dataset.\n",
    "y_ridgereg_pred_test = ridgeReg.predict(X_test_ridge_reg)"
   ]
  },
  {
   "cell_type": "code",
   "execution_count": 29,
   "id": "d9c0e94b",
   "metadata": {
    "ExecuteTime": {
     "end_time": "2022-02-11T03:12:57.404832Z",
     "start_time": "2022-02-11T03:12:57.386854Z"
    }
   },
   "outputs": [],
   "source": [
    "# Use the model to predict the train dataset.\n",
    "y_ridgereg_pred_train = ridgeReg.predict(X_train_ridge_reg)"
   ]
  },
  {
   "cell_type": "markdown",
   "id": "0bdb8d24",
   "metadata": {},
   "source": [
    "#### R2 Score"
   ]
  },
  {
   "cell_type": "code",
   "execution_count": 30,
   "id": "1c00a0b5",
   "metadata": {
    "ExecuteTime": {
     "end_time": "2022-02-11T03:13:12.364929Z",
     "start_time": "2022-02-11T03:13:12.346977Z"
    }
   },
   "outputs": [
    {
     "name": "stdout",
     "output_type": "stream",
     "text": [
      "r2_ score for train dataset for multi linear reg :  0.8242210208620694\n",
      "r2_ score for test dataset for multi linear reg :  0.837913958173101\n",
      "root mean squared error for multi linear reg :  1877891.8158316377\n"
     ]
    }
   ],
   "source": [
    "# Calculate the eualuation metrics of the model.\n",
    "r2_score_ridgereg_train = r2_score(y_ridgereg_pred_train, y_train_ridge_reg)\n",
    "r2_score_ridgereg_test = r2_score(y_ridgereg_pred_test, y_test_ridge_reg)\n",
    "rmse_ridgereg = np.sqrt(mean_squared_error(y_ridgereg_pred_test, y_test_ridge_reg)**2)\n",
    "print('r2_ score for train dataset for multi linear reg : ', r2_score_ridgereg_train)\n",
    "print('r2_ score for test dataset for multi linear reg : ', r2_score_ridgereg_test)\n",
    "print('root mean squared error for multi linear reg : ', rmse_ridgereg)"
   ]
  },
  {
   "cell_type": "markdown",
   "id": "d51459f6",
   "metadata": {},
   "source": [
    "#### Lasso Regression"
   ]
  },
  {
   "cell_type": "code",
   "execution_count": 31,
   "id": "06f6c391",
   "metadata": {
    "ExecuteTime": {
     "end_time": "2022-02-11T03:13:27.259146Z",
     "start_time": "2022-02-11T03:13:27.244186Z"
    }
   },
   "outputs": [
    {
     "data": {
      "text/plain": [
       "Lasso(alpha=0.3, normalize=True)"
      ]
     },
     "execution_count": 31,
     "metadata": {},
     "output_type": "execute_result"
    }
   ],
   "source": [
    "from sklearn.linear_model import Lasso\n",
    "## training the model\n",
    "\n",
    "lassoReg = Lasso(alpha=0.3, normalize=True)\n",
    "\n",
    "lassoReg.fit(X_train_ridge_reg,y_train_ridge_reg)"
   ]
  },
  {
   "cell_type": "code",
   "execution_count": 32,
   "id": "4767d189",
   "metadata": {
    "ExecuteTime": {
     "end_time": "2022-02-11T03:13:34.193125Z",
     "start_time": "2022-02-11T03:13:34.175174Z"
    }
   },
   "outputs": [],
   "source": [
    "# Use the model to predict the test dataset.\n",
    "y_lassoreg_pred_test = lassoReg.predict(X_test_ridge_reg)"
   ]
  },
  {
   "cell_type": "code",
   "execution_count": 33,
   "id": "47c457d7",
   "metadata": {
    "ExecuteTime": {
     "end_time": "2022-02-11T03:13:40.456566Z",
     "start_time": "2022-02-11T03:13:40.448586Z"
    }
   },
   "outputs": [],
   "source": [
    "# Use the model to predict the train dataset.\n",
    "y_lassoreg_pred_train = lassoReg.predict(X_train_ridge_reg)"
   ]
  },
  {
   "cell_type": "markdown",
   "id": "e828bced",
   "metadata": {},
   "source": [
    "#### R2 Score"
   ]
  },
  {
   "cell_type": "code",
   "execution_count": 34,
   "id": "3e137ea6",
   "metadata": {
    "ExecuteTime": {
     "end_time": "2022-02-11T03:13:54.184068Z",
     "start_time": "2022-02-11T03:13:54.177087Z"
    }
   },
   "outputs": [
    {
     "name": "stdout",
     "output_type": "stream",
     "text": [
      "r2_ score for train dataset for multi linear reg :  0.833985185084513\n",
      "r2_ score for test dataset for multi linear reg :  0.8474175130421315\n",
      "root mean squared error for multi linear reg :  1859471.861727184\n"
     ]
    }
   ],
   "source": [
    "r2_score_lassoreg_train = r2_score(y_lassoreg_pred_train, y_train_ridge_reg)\n",
    "r2_score_lassoreg_test = r2_score(y_lassoreg_pred_test, y_test_ridge_reg)\n",
    "rmse_lassoreg = np.sqrt(mean_squared_error(y_lassoreg_pred_test, y_test_ridge_reg)**2)\n",
    "print('r2_ score for train dataset for multi linear reg : ', r2_score_lassoreg_train)\n",
    "print('r2_ score for test dataset for multi linear reg : ', r2_score_lassoreg_test)\n",
    "print('root mean squared error for multi linear reg : ', rmse_lassoreg)"
   ]
  },
  {
   "cell_type": "code",
   "execution_count": 35,
   "id": "c8a9ccd7",
   "metadata": {
    "ExecuteTime": {
     "end_time": "2022-02-11T03:14:29.133096Z",
     "start_time": "2022-02-11T03:14:29.114147Z"
    }
   },
   "outputs": [],
   "source": [
    "Models = [('Multiplt Linear Regression', r2_score_mlreg_train, r2_score_mlreg_test, rmse_mlreg),\n",
    "          ('Ridge Regression', r2_score_ridgereg_train, r2_score_ridgereg_test, rmse_ridgereg),\n",
    "          ('Lasso Regression', r2_score_lassoreg_train, r2_score_lassoreg_test, rmse_lassoreg)]"
   ]
  },
  {
   "cell_type": "code",
   "execution_count": 36,
   "id": "5dc61b99",
   "metadata": {
    "ExecuteTime": {
     "end_time": "2022-02-11T03:14:34.952497Z",
     "start_time": "2022-02-11T03:14:34.932549Z"
    }
   },
   "outputs": [
    {
     "data": {
      "text/html": [
       "<div>\n",
       "<style scoped>\n",
       "    .dataframe tbody tr th:only-of-type {\n",
       "        vertical-align: middle;\n",
       "    }\n",
       "\n",
       "    .dataframe tbody tr th {\n",
       "        vertical-align: top;\n",
       "    }\n",
       "\n",
       "    .dataframe thead th {\n",
       "        text-align: right;\n",
       "    }\n",
       "</style>\n",
       "<table border=\"1\" class=\"dataframe\">\n",
       "  <thead>\n",
       "    <tr style=\"text-align: right;\">\n",
       "      <th></th>\n",
       "      <th>Models</th>\n",
       "      <th>r2_score Training</th>\n",
       "      <th>r2_score Testing</th>\n",
       "      <th>RMSE</th>\n",
       "    </tr>\n",
       "  </thead>\n",
       "  <tbody>\n",
       "    <tr>\n",
       "      <th>0</th>\n",
       "      <td>Multiplt Linear Regression</td>\n",
       "      <td>0.867124</td>\n",
       "      <td>0.867124</td>\n",
       "      <td>1.725837e+06</td>\n",
       "    </tr>\n",
       "    <tr>\n",
       "      <th>1</th>\n",
       "      <td>Ridge Regression</td>\n",
       "      <td>0.824221</td>\n",
       "      <td>0.837914</td>\n",
       "      <td>1.877892e+06</td>\n",
       "    </tr>\n",
       "    <tr>\n",
       "      <th>2</th>\n",
       "      <td>Lasso Regression</td>\n",
       "      <td>0.833985</td>\n",
       "      <td>0.847418</td>\n",
       "      <td>1.859472e+06</td>\n",
       "    </tr>\n",
       "  </tbody>\n",
       "</table>\n",
       "</div>"
      ],
      "text/plain": [
       "                       Models  r2_score Training  r2_score Testing  \\\n",
       "0  Multiplt Linear Regression           0.867124          0.867124   \n",
       "1            Ridge Regression           0.824221          0.837914   \n",
       "2            Lasso Regression           0.833985          0.847418   \n",
       "\n",
       "           RMSE  \n",
       "0  1.725837e+06  \n",
       "1  1.877892e+06  \n",
       "2  1.859472e+06  "
      ]
     },
     "execution_count": 36,
     "metadata": {},
     "output_type": "execute_result"
    }
   ],
   "source": [
    "predict_all = pd.DataFrame(data = Models, columns = ['Models', 'r2_score Training', 'r2_score Testing', 'RMSE'])\n",
    "predict_all"
   ]
  },
  {
   "cell_type": "markdown",
   "id": "2f035a26",
   "metadata": {},
   "source": [
    "#### Visualization"
   ]
  },
  {
   "cell_type": "code",
   "execution_count": 37,
   "id": "aff887ed",
   "metadata": {
    "ExecuteTime": {
     "end_time": "2022-02-11T03:14:52.099450Z",
     "start_time": "2022-02-11T03:14:51.805359Z"
    }
   },
   "outputs": [
    {
     "data": {
      "text/plain": [
       "(0.0, 1.0)"
      ]
     },
     "execution_count": 37,
     "metadata": {},
     "output_type": "execute_result"
    },
    {
     "data": {
      "image/png": "[encoded data removed]",
      "text/plain": [
       "<Figure size 1296x864 with 3 Axes>"
      ]
     },
     "metadata": {
      "needs_background": "light"
     },
     "output_type": "display_data"
    }
   ],
   "source": [
    "f, axes = plt.subplots(3,1, figsize=(18,12))\n",
    "\n",
    "sns.barplot(x='Models', y='r2_score Training', data = predict_all, ax = axes[0])\n",
    "axes[0].set_xlabel('Models')\n",
    "axes[0].set_ylabel('r2_score Training')\n",
    "axes[0].set_ylim(0,1.0)\n",
    "\n",
    "sns.barplot(x='Models', y='r2_score Testing', data = predict_all, ax = axes[1])\n",
    "axes[0].set_xlabel('Models')\n",
    "axes[0].set_ylabel('r2_score Testing')\n",
    "axes[0].set_ylim(0,1.0)\n",
    "\n",
    "sns.barplot(x='Models', y='RMSE', data = predict_all, ax = axes[2])\n",
    "axes[0].set_xlabel('Models')\n",
    "axes[0].set_ylabel('RMSE')\n",
    "axes[0].set_ylim(0,1.0)"
   ]
  },
  {
   "cell_type": "code",
   "execution_count": null,
   "id": "f369a1eb",
   "metadata": {},
   "outputs": [],
   "source": []
  }
 ],
 "metadata": {
  "kernelspec": {
   "display_name": "Python 3",
   "language": "python",
   "name": "python3"
  },
  "language_info": {
   "codemirror_mode": {
    "name": "ipython",
    "version": 3
   },
   "file_extension": ".py",
   "mimetype": "text/x-python",
   "name": "python",
   "nbconvert_exporter": "python",
   "pygments_lexer": "ipython3",
   "version": "3.8.8"
  }
 },
 "nbformat": 4,
 "nbformat_minor": 5
}
