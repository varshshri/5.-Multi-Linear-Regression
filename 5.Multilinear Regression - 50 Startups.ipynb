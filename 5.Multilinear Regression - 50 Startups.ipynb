{
 "cells": [
  {
   "cell_type": "markdown",
   "id": "a95e7eeb",
   "metadata": {},
   "source": [
    "## Multilinear Regression - 50 Startups"
   ]
  },
  {
   "cell_type": "code",
   "execution_count": 1,
   "id": "1330f4ff",
   "metadata": {
    "ExecuteTime": {
     "end_time": "2022-02-11T03:16:13.586622Z",
     "start_time": "2022-02-11T03:16:12.948560Z"
    }
   },
   "outputs": [],
   "source": [
    "# import modules \n",
    "import pandas as pd\n",
    "import matplotlib.pyplot as plt\n",
    "import seaborn as sns\n",
    "from statsmodels.graphics.regressionplots import influence_plot\n",
    "import statsmodels.formula.api as smf\n",
    "import numpy as np\n",
    "from sklearn.preprocessing import StandardScaler, MinMaxScaler"
   ]
  },
  {
   "cell_type": "code",
   "execution_count": 2,
   "id": "e9894f48",
   "metadata": {
    "ExecuteTime": {
     "end_time": "2022-02-11T03:16:18.147037Z",
     "start_time": "2022-02-11T03:16:18.123103Z"
    }
   },
   "outputs": [
    {
     "data": {
      "text/html": [
       "<div>\n",
       "<style scoped>\n",
       "    .dataframe tbody tr th:only-of-type {\n",
       "        vertical-align: middle;\n",
       "    }\n",
       "\n",
       "    .dataframe tbody tr th {\n",
       "        vertical-align: top;\n",
       "    }\n",
       "\n",
       "    .dataframe thead th {\n",
       "        text-align: right;\n",
       "    }\n",
       "</style>\n",
       "<table border=\"1\" class=\"dataframe\">\n",
       "  <thead>\n",
       "    <tr style=\"text-align: right;\">\n",
       "      <th></th>\n",
       "      <th>R&amp;D Spend</th>\n",
       "      <th>Administration</th>\n",
       "      <th>Marketing Spend</th>\n",
       "      <th>State</th>\n",
       "      <th>Profit</th>\n",
       "    </tr>\n",
       "  </thead>\n",
       "  <tbody>\n",
       "    <tr>\n",
       "      <th>0</th>\n",
       "      <td>165349.20</td>\n",
       "      <td>136897.80</td>\n",
       "      <td>471784.10</td>\n",
       "      <td>New York</td>\n",
       "      <td>192261.83</td>\n",
       "    </tr>\n",
       "    <tr>\n",
       "      <th>1</th>\n",
       "      <td>162597.70</td>\n",
       "      <td>151377.59</td>\n",
       "      <td>443898.53</td>\n",
       "      <td>California</td>\n",
       "      <td>191792.06</td>\n",
       "    </tr>\n",
       "    <tr>\n",
       "      <th>2</th>\n",
       "      <td>153441.51</td>\n",
       "      <td>101145.55</td>\n",
       "      <td>407934.54</td>\n",
       "      <td>Florida</td>\n",
       "      <td>191050.39</td>\n",
       "    </tr>\n",
       "    <tr>\n",
       "      <th>3</th>\n",
       "      <td>144372.41</td>\n",
       "      <td>118671.85</td>\n",
       "      <td>383199.62</td>\n",
       "      <td>New York</td>\n",
       "      <td>182901.99</td>\n",
       "    </tr>\n",
       "    <tr>\n",
       "      <th>4</th>\n",
       "      <td>142107.34</td>\n",
       "      <td>91391.77</td>\n",
       "      <td>366168.42</td>\n",
       "      <td>Florida</td>\n",
       "      <td>166187.94</td>\n",
       "    </tr>\n",
       "  </tbody>\n",
       "</table>\n",
       "</div>"
      ],
      "text/plain": [
       "   R&D Spend  Administration  Marketing Spend       State     Profit\n",
       "0  165349.20       136897.80        471784.10    New York  192261.83\n",
       "1  162597.70       151377.59        443898.53  California  191792.06\n",
       "2  153441.51       101145.55        407934.54     Florida  191050.39\n",
       "3  144372.41       118671.85        383199.62    New York  182901.99\n",
       "4  142107.34        91391.77        366168.42     Florida  166187.94"
      ]
     },
     "execution_count": 2,
     "metadata": {},
     "output_type": "execute_result"
    }
   ],
   "source": [
    "#load dataset and view it\n",
    "startup = pd.read_csv('50_Startups.csv')\n",
    "startup.head()"
   ]
  },
  {
   "cell_type": "code",
   "execution_count": 3,
   "id": "563c0410",
   "metadata": {
    "ExecuteTime": {
     "end_time": "2022-02-11T03:16:26.113457Z",
     "start_time": "2022-02-11T03:16:26.105479Z"
    }
   },
   "outputs": [
    {
     "data": {
      "text/plain": [
       "(50, 5)"
      ]
     },
     "execution_count": 3,
     "metadata": {},
     "output_type": "execute_result"
    }
   ],
   "source": [
    "#shape of dataset\n",
    "startup.shape"
   ]
  },
  {
   "cell_type": "code",
   "execution_count": 4,
   "id": "2db892f1",
   "metadata": {
    "ExecuteTime": {
     "end_time": "2022-02-11T03:16:31.775438Z",
     "start_time": "2022-02-11T03:16:31.757486Z"
    }
   },
   "outputs": [
    {
     "data": {
      "text/plain": [
       "Index(['R&D Spend', 'Administration', 'Marketing Spend', 'State', 'Profit'], dtype='object')"
      ]
     },
     "execution_count": 4,
     "metadata": {},
     "output_type": "execute_result"
    }
   ],
   "source": [
    "#titles of data\n",
    "startup.columns"
   ]
  },
  {
   "cell_type": "code",
   "execution_count": 5,
   "id": "c7fb4acc",
   "metadata": {
    "ExecuteTime": {
     "end_time": "2022-02-11T03:16:37.048521Z",
     "start_time": "2022-02-11T03:16:37.036553Z"
    }
   },
   "outputs": [
    {
     "name": "stdout",
     "output_type": "stream",
     "text": [
      "<class 'pandas.core.frame.DataFrame'>\n",
      "RangeIndex: 50 entries, 0 to 49\n",
      "Data columns (total 5 columns):\n",
      " #   Column           Non-Null Count  Dtype  \n",
      "---  ------           --------------  -----  \n",
      " 0   R&D Spend        50 non-null     float64\n",
      " 1   Administration   50 non-null     float64\n",
      " 2   Marketing Spend  50 non-null     float64\n",
      " 3   State            50 non-null     object \n",
      " 4   Profit           50 non-null     float64\n",
      "dtypes: float64(4), object(1)\n",
      "memory usage: 2.1+ KB\n"
     ]
    }
   ],
   "source": [
    "#info\n",
    "startup.info()"
   ]
  },
  {
   "cell_type": "code",
   "execution_count": 6,
   "id": "fa005065",
   "metadata": {
    "ExecuteTime": {
     "end_time": "2022-02-11T03:16:44.736214Z",
     "start_time": "2022-02-11T03:16:44.720080Z"
    }
   },
   "outputs": [
    {
     "data": {
      "text/html": [
       "<div>\n",
       "<style scoped>\n",
       "    .dataframe tbody tr th:only-of-type {\n",
       "        vertical-align: middle;\n",
       "    }\n",
       "\n",
       "    .dataframe tbody tr th {\n",
       "        vertical-align: top;\n",
       "    }\n",
       "\n",
       "    .dataframe thead th {\n",
       "        text-align: right;\n",
       "    }\n",
       "</style>\n",
       "<table border=\"1\" class=\"dataframe\">\n",
       "  <thead>\n",
       "    <tr style=\"text-align: right;\">\n",
       "      <th></th>\n",
       "      <th>R&amp;D Spend</th>\n",
       "      <th>Administration</th>\n",
       "      <th>Marketing Spend</th>\n",
       "      <th>State</th>\n",
       "      <th>Profit</th>\n",
       "    </tr>\n",
       "  </thead>\n",
       "  <tbody>\n",
       "  </tbody>\n",
       "</table>\n",
       "</div>"
      ],
      "text/plain": [
       "Empty DataFrame\n",
       "Columns: [R&D Spend, Administration, Marketing Spend, State, Profit]\n",
       "Index: []"
      ]
     },
     "execution_count": 6,
     "metadata": {},
     "output_type": "execute_result"
    }
   ],
   "source": [
    "#check duplicates\n",
    "startup[startup.duplicated()]"
   ]
  },
  {
   "cell_type": "markdown",
   "id": "99803871",
   "metadata": {},
   "source": [
    "## \n",
    "There are no duplicate values in the data"
   ]
  },
  {
   "cell_type": "code",
   "execution_count": 7,
   "id": "00e39da6",
   "metadata": {
    "ExecuteTime": {
     "end_time": "2022-02-11T03:17:27.269530Z",
     "start_time": "2022-02-11T03:17:27.242604Z"
    }
   },
   "outputs": [
    {
     "data": {
      "text/html": [
       "<div>\n",
       "<style scoped>\n",
       "    .dataframe tbody tr th:only-of-type {\n",
       "        vertical-align: middle;\n",
       "    }\n",
       "\n",
       "    .dataframe tbody tr th {\n",
       "        vertical-align: top;\n",
       "    }\n",
       "\n",
       "    .dataframe thead th {\n",
       "        text-align: right;\n",
       "    }\n",
       "</style>\n",
       "<table border=\"1\" class=\"dataframe\">\n",
       "  <thead>\n",
       "    <tr style=\"text-align: right;\">\n",
       "      <th></th>\n",
       "      <th>R&amp;D Spend</th>\n",
       "      <th>Administration</th>\n",
       "      <th>Marketing Spend</th>\n",
       "      <th>Profit</th>\n",
       "    </tr>\n",
       "  </thead>\n",
       "  <tbody>\n",
       "    <tr>\n",
       "      <th>count</th>\n",
       "      <td>50.000000</td>\n",
       "      <td>50.000000</td>\n",
       "      <td>50.000000</td>\n",
       "      <td>50.000000</td>\n",
       "    </tr>\n",
       "    <tr>\n",
       "      <th>mean</th>\n",
       "      <td>73721.615600</td>\n",
       "      <td>121344.639600</td>\n",
       "      <td>211025.097800</td>\n",
       "      <td>112012.639200</td>\n",
       "    </tr>\n",
       "    <tr>\n",
       "      <th>std</th>\n",
       "      <td>45902.256482</td>\n",
       "      <td>28017.802755</td>\n",
       "      <td>122290.310726</td>\n",
       "      <td>40306.180338</td>\n",
       "    </tr>\n",
       "    <tr>\n",
       "      <th>min</th>\n",
       "      <td>0.000000</td>\n",
       "      <td>51283.140000</td>\n",
       "      <td>0.000000</td>\n",
       "      <td>14681.400000</td>\n",
       "    </tr>\n",
       "    <tr>\n",
       "      <th>25%</th>\n",
       "      <td>39936.370000</td>\n",
       "      <td>103730.875000</td>\n",
       "      <td>129300.132500</td>\n",
       "      <td>90138.902500</td>\n",
       "    </tr>\n",
       "    <tr>\n",
       "      <th>50%</th>\n",
       "      <td>73051.080000</td>\n",
       "      <td>122699.795000</td>\n",
       "      <td>212716.240000</td>\n",
       "      <td>107978.190000</td>\n",
       "    </tr>\n",
       "    <tr>\n",
       "      <th>75%</th>\n",
       "      <td>101602.800000</td>\n",
       "      <td>144842.180000</td>\n",
       "      <td>299469.085000</td>\n",
       "      <td>139765.977500</td>\n",
       "    </tr>\n",
       "    <tr>\n",
       "      <th>max</th>\n",
       "      <td>165349.200000</td>\n",
       "      <td>182645.560000</td>\n",
       "      <td>471784.100000</td>\n",
       "      <td>192261.830000</td>\n",
       "    </tr>\n",
       "  </tbody>\n",
       "</table>\n",
       "</div>"
      ],
      "text/plain": [
       "           R&D Spend  Administration  Marketing Spend         Profit\n",
       "count      50.000000       50.000000        50.000000      50.000000\n",
       "mean    73721.615600   121344.639600    211025.097800  112012.639200\n",
       "std     45902.256482    28017.802755    122290.310726   40306.180338\n",
       "min         0.000000    51283.140000         0.000000   14681.400000\n",
       "25%     39936.370000   103730.875000    129300.132500   90138.902500\n",
       "50%     73051.080000   122699.795000    212716.240000  107978.190000\n",
       "75%    101602.800000   144842.180000    299469.085000  139765.977500\n",
       "max    165349.200000   182645.560000    471784.100000  192261.830000"
      ]
     },
     "execution_count": 7,
     "metadata": {},
     "output_type": "execute_result"
    }
   ],
   "source": [
    "#describe\n",
    "startup.describe()"
   ]
  },
  {
   "cell_type": "code",
   "execution_count": 8,
   "id": "7493cc48",
   "metadata": {
    "ExecuteTime": {
     "end_time": "2022-02-11T03:17:35.423417Z",
     "start_time": "2022-02-11T03:17:35.412447Z"
    }
   },
   "outputs": [
    {
     "data": {
      "text/plain": [
       "array([192261.83, 191792.06, 191050.39, 182901.99, 166187.94, 156991.12,\n",
       "       156122.51, 155752.6 , 152211.77, 149759.96, 146121.95, 144259.4 ,\n",
       "       141585.52, 134307.35, 132602.65, 129917.04, 126992.93, 125370.37,\n",
       "       124266.9 , 122776.86, 118474.03, 111313.02, 110352.25, 108733.99,\n",
       "       108552.04, 107404.34, 105733.54, 105008.31, 103282.38, 101004.64,\n",
       "        99937.59,  97483.56,  97427.84,  96778.92,  96712.8 ,  96479.51,\n",
       "        90708.19,  89949.14,  81229.06,  81005.76,  78239.91,  77798.83,\n",
       "        71498.49,  69758.98,  65200.33,  64926.08,  49490.75,  42559.73,\n",
       "        35673.41,  14681.4 ])"
      ]
     },
     "execution_count": 8,
     "metadata": {},
     "output_type": "execute_result"
    }
   ],
   "source": [
    "#unique\n",
    "startup['Profit'].unique()"
   ]
  },
  {
   "cell_type": "markdown",
   "id": "35519880",
   "metadata": {},
   "source": [
    "#### \n",
    "Since the profit values are continuous let's check values_count()"
   ]
  },
  {
   "cell_type": "code",
   "execution_count": 9,
   "id": "78407ac5",
   "metadata": {
    "ExecuteTime": {
     "end_time": "2022-02-11T03:17:58.881373Z",
     "start_time": "2022-02-11T03:17:58.867412Z"
    }
   },
   "outputs": [
    {
     "data": {
      "text/plain": [
       "89949.14     1\n",
       "156122.51    1\n",
       "107404.34    1\n",
       "124266.90    1\n",
       "71498.49     1\n",
       "144259.40    1\n",
       "126992.93    1\n",
       "65200.33     1\n",
       "49490.75     1\n",
       "156991.12    1\n",
       "125370.37    1\n",
       "105008.31    1\n",
       "149759.96    1\n",
       "146121.95    1\n",
       "77798.83     1\n",
       "101004.64    1\n",
       "118474.03    1\n",
       "81229.06     1\n",
       "182901.99    1\n",
       "103282.38    1\n",
       "141585.52    1\n",
       "96778.92     1\n",
       "129917.04    1\n",
       "191050.39    1\n",
       "110352.25    1\n",
       "78239.91     1\n",
       "35673.41     1\n",
       "64926.08     1\n",
       "108733.99    1\n",
       "192261.83    1\n",
       "191792.06    1\n",
       "99937.59     1\n",
       "152211.77    1\n",
       "81005.76     1\n",
       "122776.86    1\n",
       "155752.60    1\n",
       "97427.84     1\n",
       "111313.02    1\n",
       "96479.51     1\n",
       "166187.94    1\n",
       "108552.04    1\n",
       "96712.80     1\n",
       "14681.40     1\n",
       "90708.19     1\n",
       "134307.35    1\n",
       "42559.73     1\n",
       "69758.98     1\n",
       "105733.54    1\n",
       "97483.56     1\n",
       "132602.65    1\n",
       "Name: Profit, dtype: int64"
      ]
     },
     "execution_count": 9,
     "metadata": {},
     "output_type": "execute_result"
    }
   ],
   "source": [
    "#value_count()\n",
    "startup['Profit'].value_counts()"
   ]
  },
  {
   "cell_type": "code",
   "execution_count": 10,
   "id": "ec1e12dd",
   "metadata": {
    "ExecuteTime": {
     "end_time": "2022-02-11T03:18:27.424130Z",
     "start_time": "2022-02-11T03:18:27.414158Z"
    }
   },
   "outputs": [
    {
     "data": {
      "text/plain": [
       "50"
      ]
     },
     "execution_count": 10,
     "metadata": {},
     "output_type": "execute_result"
    }
   ],
   "source": [
    "startup['Profit'].value_counts().sum()"
   ]
  },
  {
   "cell_type": "markdown",
   "id": "313c69f9",
   "metadata": {},
   "source": [
    "##### \n",
    "all the profit observation are having count one and it is unique and there are no duplicate in our data"
   ]
  },
  {
   "cell_type": "markdown",
   "id": "a88e5950",
   "metadata": {},
   "source": [
    "### Visualization"
   ]
  },
  {
   "cell_type": "code",
   "execution_count": 11,
   "id": "d498b85c",
   "metadata": {
    "ExecuteTime": {
     "end_time": "2022-02-11T03:19:28.938728Z",
     "start_time": "2022-02-11T03:19:28.722382Z"
    }
   },
   "outputs": [
    {
     "data": {
      "text/plain": [
       "<seaborn.axisgrid.FacetGrid at 0x2151e4df040>"
      ]
     },
     "execution_count": 11,
     "metadata": {},
     "output_type": "execute_result"
    },
    {
     "data": {
      "image/png": "[encoded data removed]",
      "text/plain": [
       "<Figure size 360x360 with 1 Axes>"
      ]
     },
     "metadata": {
      "needs_background": "light"
     },
     "output_type": "display_data"
    }
   ],
   "source": [
    "sns.displot(data=startup,x='Profit',kde=True)"
   ]
  },
  {
   "cell_type": "code",
   "execution_count": 12,
   "id": "9ff26b38",
   "metadata": {
    "ExecuteTime": {
     "end_time": "2022-02-11T03:19:40.099247Z",
     "start_time": "2022-02-11T03:19:38.437766Z"
    }
   },
   "outputs": [
    {
     "data": {
      "text/plain": [
       "<seaborn.axisgrid.PairGrid at 0x2151e4dfb80>"
      ]
     },
     "execution_count": 12,
     "metadata": {},
     "output_type": "execute_result"
    },
    {
     "data": {
      "image/png": "[encoded data removed]",
      "text/plain": [
       "<Figure size 720x720 with 20 Axes>"
      ]
     },
     "metadata": {
      "needs_background": "light"
     },
     "output_type": "display_data"
    }
   ],
   "source": [
    "sns.pairplot(startup)"
   ]
  },
  {
   "cell_type": "code",
   "execution_count": 13,
   "id": "1a51ceea",
   "metadata": {
    "ExecuteTime": {
     "end_time": "2022-02-11T03:19:47.570227Z",
     "start_time": "2022-02-11T03:19:47.295643Z"
    }
   },
   "outputs": [
    {
     "data": {
      "text/plain": [
       "<seaborn.axisgrid.FacetGrid at 0x2152064ea30>"
      ]
     },
     "execution_count": 13,
     "metadata": {},
     "output_type": "execute_result"
    },
    {
     "data": {
      "image/png": "[encoded data removed]",
      "text/plain": [
       "<Figure size 360x360 with 1 Axes>"
      ]
     },
     "metadata": {
      "needs_background": "light"
     },
     "output_type": "display_data"
    }
   ],
   "source": [
    "sns.catplot(data=startup, x = 'State',y='Profit',kind=\"bar\")"
   ]
  },
  {
   "cell_type": "markdown",
   "id": "b8516619",
   "metadata": {},
   "source": [
    "### \n",
    "Since we have state column with 3 categorical data we cannot person correlation unless we seperate them with dummies"
   ]
  },
  {
   "cell_type": "code",
   "execution_count": 14,
   "id": "ca48a0e0",
   "metadata": {
    "ExecuteTime": {
     "end_time": "2022-02-11T03:20:05.419124Z",
     "start_time": "2022-02-11T03:20:05.398180Z"
    }
   },
   "outputs": [
    {
     "data": {
      "text/html": [
       "<div>\n",
       "<style scoped>\n",
       "    .dataframe tbody tr th:only-of-type {\n",
       "        vertical-align: middle;\n",
       "    }\n",
       "\n",
       "    .dataframe tbody tr th {\n",
       "        vertical-align: top;\n",
       "    }\n",
       "\n",
       "    .dataframe thead th {\n",
       "        text-align: right;\n",
       "    }\n",
       "</style>\n",
       "<table border=\"1\" class=\"dataframe\">\n",
       "  <thead>\n",
       "    <tr style=\"text-align: right;\">\n",
       "      <th></th>\n",
       "      <th>R&amp;D Spend</th>\n",
       "      <th>Administration</th>\n",
       "      <th>Marketing Spend</th>\n",
       "      <th>Profit</th>\n",
       "      <th>State_California</th>\n",
       "      <th>State_Florida</th>\n",
       "      <th>State_New York</th>\n",
       "    </tr>\n",
       "  </thead>\n",
       "  <tbody>\n",
       "    <tr>\n",
       "      <th>0</th>\n",
       "      <td>165349.20</td>\n",
       "      <td>136897.80</td>\n",
       "      <td>471784.10</td>\n",
       "      <td>192261.83</td>\n",
       "      <td>0</td>\n",
       "      <td>0</td>\n",
       "      <td>1</td>\n",
       "    </tr>\n",
       "    <tr>\n",
       "      <th>1</th>\n",
       "      <td>162597.70</td>\n",
       "      <td>151377.59</td>\n",
       "      <td>443898.53</td>\n",
       "      <td>191792.06</td>\n",
       "      <td>1</td>\n",
       "      <td>0</td>\n",
       "      <td>0</td>\n",
       "    </tr>\n",
       "    <tr>\n",
       "      <th>2</th>\n",
       "      <td>153441.51</td>\n",
       "      <td>101145.55</td>\n",
       "      <td>407934.54</td>\n",
       "      <td>191050.39</td>\n",
       "      <td>0</td>\n",
       "      <td>1</td>\n",
       "      <td>0</td>\n",
       "    </tr>\n",
       "    <tr>\n",
       "      <th>3</th>\n",
       "      <td>144372.41</td>\n",
       "      <td>118671.85</td>\n",
       "      <td>383199.62</td>\n",
       "      <td>182901.99</td>\n",
       "      <td>0</td>\n",
       "      <td>0</td>\n",
       "      <td>1</td>\n",
       "    </tr>\n",
       "    <tr>\n",
       "      <th>4</th>\n",
       "      <td>142107.34</td>\n",
       "      <td>91391.77</td>\n",
       "      <td>366168.42</td>\n",
       "      <td>166187.94</td>\n",
       "      <td>0</td>\n",
       "      <td>1</td>\n",
       "      <td>0</td>\n",
       "    </tr>\n",
       "  </tbody>\n",
       "</table>\n",
       "</div>"
      ],
      "text/plain": [
       "   R&D Spend  Administration  Marketing Spend     Profit  State_California  \\\n",
       "0  165349.20       136897.80        471784.10  192261.83                 0   \n",
       "1  162597.70       151377.59        443898.53  191792.06                 1   \n",
       "2  153441.51       101145.55        407934.54  191050.39                 0   \n",
       "3  144372.41       118671.85        383199.62  182901.99                 0   \n",
       "4  142107.34        91391.77        366168.42  166187.94                 0   \n",
       "\n",
       "   State_Florida  State_New York  \n",
       "0              0               1  \n",
       "1              0               0  \n",
       "2              1               0  \n",
       "3              0               1  \n",
       "4              1               0  "
      ]
     },
     "execution_count": 14,
     "metadata": {},
     "output_type": "execute_result"
    }
   ],
   "source": [
    "#dummies \n",
    "startup = pd.get_dummies(startup, columns=['State'])\n",
    "startup.head()"
   ]
  },
  {
   "cell_type": "code",
   "execution_count": 15,
   "id": "fbf365d9",
   "metadata": {
    "ExecuteTime": {
     "end_time": "2022-02-11T03:20:12.147710Z",
     "start_time": "2022-02-11T03:20:12.135754Z"
    }
   },
   "outputs": [
    {
     "data": {
      "text/html": [
       "<div>\n",
       "<style scoped>\n",
       "    .dataframe tbody tr th:only-of-type {\n",
       "        vertical-align: middle;\n",
       "    }\n",
       "\n",
       "    .dataframe tbody tr th {\n",
       "        vertical-align: top;\n",
       "    }\n",
       "\n",
       "    .dataframe thead th {\n",
       "        text-align: right;\n",
       "    }\n",
       "</style>\n",
       "<table border=\"1\" class=\"dataframe\">\n",
       "  <thead>\n",
       "    <tr style=\"text-align: right;\">\n",
       "      <th></th>\n",
       "      <th>R&amp;D Spend</th>\n",
       "      <th>Administration</th>\n",
       "      <th>Marketing Spend</th>\n",
       "      <th>Profit</th>\n",
       "      <th>State_California</th>\n",
       "      <th>State_Florida</th>\n",
       "      <th>State_New York</th>\n",
       "    </tr>\n",
       "  </thead>\n",
       "  <tbody>\n",
       "    <tr>\n",
       "      <th>R&amp;D Spend</th>\n",
       "      <td>1.000000</td>\n",
       "      <td>0.241955</td>\n",
       "      <td>0.724248</td>\n",
       "      <td>0.972900</td>\n",
       "      <td>-0.143165</td>\n",
       "      <td>0.105711</td>\n",
       "      <td>0.039068</td>\n",
       "    </tr>\n",
       "    <tr>\n",
       "      <th>Administration</th>\n",
       "      <td>0.241955</td>\n",
       "      <td>1.000000</td>\n",
       "      <td>-0.032154</td>\n",
       "      <td>0.200717</td>\n",
       "      <td>-0.015478</td>\n",
       "      <td>0.010493</td>\n",
       "      <td>0.005145</td>\n",
       "    </tr>\n",
       "    <tr>\n",
       "      <th>Marketing Spend</th>\n",
       "      <td>0.724248</td>\n",
       "      <td>-0.032154</td>\n",
       "      <td>1.000000</td>\n",
       "      <td>0.747766</td>\n",
       "      <td>-0.168875</td>\n",
       "      <td>0.205685</td>\n",
       "      <td>-0.033670</td>\n",
       "    </tr>\n",
       "    <tr>\n",
       "      <th>Profit</th>\n",
       "      <td>0.972900</td>\n",
       "      <td>0.200717</td>\n",
       "      <td>0.747766</td>\n",
       "      <td>1.000000</td>\n",
       "      <td>-0.145837</td>\n",
       "      <td>0.116244</td>\n",
       "      <td>0.031368</td>\n",
       "    </tr>\n",
       "    <tr>\n",
       "      <th>State_California</th>\n",
       "      <td>-0.143165</td>\n",
       "      <td>-0.015478</td>\n",
       "      <td>-0.168875</td>\n",
       "      <td>-0.145837</td>\n",
       "      <td>1.000000</td>\n",
       "      <td>-0.492366</td>\n",
       "      <td>-0.515152</td>\n",
       "    </tr>\n",
       "    <tr>\n",
       "      <th>State_Florida</th>\n",
       "      <td>0.105711</td>\n",
       "      <td>0.010493</td>\n",
       "      <td>0.205685</td>\n",
       "      <td>0.116244</td>\n",
       "      <td>-0.492366</td>\n",
       "      <td>1.000000</td>\n",
       "      <td>-0.492366</td>\n",
       "    </tr>\n",
       "    <tr>\n",
       "      <th>State_New York</th>\n",
       "      <td>0.039068</td>\n",
       "      <td>0.005145</td>\n",
       "      <td>-0.033670</td>\n",
       "      <td>0.031368</td>\n",
       "      <td>-0.515152</td>\n",
       "      <td>-0.492366</td>\n",
       "      <td>1.000000</td>\n",
       "    </tr>\n",
       "  </tbody>\n",
       "</table>\n",
       "</div>"
      ],
      "text/plain": [
       "                  R&D Spend  Administration  Marketing Spend    Profit  \\\n",
       "R&D Spend          1.000000        0.241955         0.724248  0.972900   \n",
       "Administration     0.241955        1.000000        -0.032154  0.200717   \n",
       "Marketing Spend    0.724248       -0.032154         1.000000  0.747766   \n",
       "Profit             0.972900        0.200717         0.747766  1.000000   \n",
       "State_California  -0.143165       -0.015478        -0.168875 -0.145837   \n",
       "State_Florida      0.105711        0.010493         0.205685  0.116244   \n",
       "State_New York     0.039068        0.005145        -0.033670  0.031368   \n",
       "\n",
       "                  State_California  State_Florida  State_New York  \n",
       "R&D Spend                -0.143165       0.105711        0.039068  \n",
       "Administration           -0.015478       0.010493        0.005145  \n",
       "Marketing Spend          -0.168875       0.205685       -0.033670  \n",
       "Profit                   -0.145837       0.116244        0.031368  \n",
       "State_California          1.000000      -0.492366       -0.515152  \n",
       "State_Florida            -0.492366       1.000000       -0.492366  \n",
       "State_New York           -0.515152      -0.492366        1.000000  "
      ]
     },
     "execution_count": 15,
     "metadata": {},
     "output_type": "execute_result"
    }
   ],
   "source": [
    "#Correletion\n",
    "startup.corr()"
   ]
  },
  {
   "cell_type": "code",
   "execution_count": 16,
   "id": "0a6e2b56",
   "metadata": {
    "ExecuteTime": {
     "end_time": "2022-02-11T03:20:23.160742Z",
     "start_time": "2022-02-11T03:20:22.639974Z"
    }
   },
   "outputs": [
    {
     "data": {
      "text/plain": [
       "<AxesSubplot:>"
      ]
     },
     "execution_count": 16,
     "metadata": {},
     "output_type": "execute_result"
    },
    {
     "data": {
      "image/png": "[encoded data removed]",
      "text/plain": [
       "<Figure size 576x432 with 2 Axes>"
      ]
     },
     "metadata": {
      "needs_background": "light"
     },
     "output_type": "display_data"
    }
   ],
   "source": [
    "#heatmap\n",
    "\n",
    "plt.figure(figsize=(8,6))\n",
    "sns.heatmap(startup.corr(),annot=True)"
   ]
  },
  {
   "cell_type": "markdown",
   "id": "7181d08a",
   "metadata": {},
   "source": [
    "#### \n",
    "By observing the figure we can say that there is positive correlation for R&D Spend between Marketing and Profit with 0.72 and 0.97\n",
    "\n",
    "also there is low correlation between R&D Spend and Administration"
   ]
  },
  {
   "cell_type": "code",
   "execution_count": 17,
   "id": "913b8fc3",
   "metadata": {
    "ExecuteTime": {
     "end_time": "2022-02-11T03:20:45.955991Z",
     "start_time": "2022-02-11T03:20:45.932054Z"
    }
   },
   "outputs": [
    {
     "data": {
      "text/html": [
       "<div>\n",
       "<style scoped>\n",
       "    .dataframe tbody tr th:only-of-type {\n",
       "        vertical-align: middle;\n",
       "    }\n",
       "\n",
       "    .dataframe tbody tr th {\n",
       "        vertical-align: top;\n",
       "    }\n",
       "\n",
       "    .dataframe thead th {\n",
       "        text-align: right;\n",
       "    }\n",
       "</style>\n",
       "<table border=\"1\" class=\"dataframe\">\n",
       "  <thead>\n",
       "    <tr style=\"text-align: right;\">\n",
       "      <th></th>\n",
       "      <th>RD</th>\n",
       "      <th>Administration</th>\n",
       "      <th>Marketing</th>\n",
       "      <th>Profit</th>\n",
       "      <th>S_Cali</th>\n",
       "      <th>S_flo</th>\n",
       "      <th>S_NY</th>\n",
       "    </tr>\n",
       "  </thead>\n",
       "  <tbody>\n",
       "    <tr>\n",
       "      <th>0</th>\n",
       "      <td>165349.20</td>\n",
       "      <td>136897.80</td>\n",
       "      <td>471784.10</td>\n",
       "      <td>192261.83</td>\n",
       "      <td>0</td>\n",
       "      <td>0</td>\n",
       "      <td>1</td>\n",
       "    </tr>\n",
       "    <tr>\n",
       "      <th>1</th>\n",
       "      <td>162597.70</td>\n",
       "      <td>151377.59</td>\n",
       "      <td>443898.53</td>\n",
       "      <td>191792.06</td>\n",
       "      <td>1</td>\n",
       "      <td>0</td>\n",
       "      <td>0</td>\n",
       "    </tr>\n",
       "    <tr>\n",
       "      <th>2</th>\n",
       "      <td>153441.51</td>\n",
       "      <td>101145.55</td>\n",
       "      <td>407934.54</td>\n",
       "      <td>191050.39</td>\n",
       "      <td>0</td>\n",
       "      <td>1</td>\n",
       "      <td>0</td>\n",
       "    </tr>\n",
       "    <tr>\n",
       "      <th>3</th>\n",
       "      <td>144372.41</td>\n",
       "      <td>118671.85</td>\n",
       "      <td>383199.62</td>\n",
       "      <td>182901.99</td>\n",
       "      <td>0</td>\n",
       "      <td>0</td>\n",
       "      <td>1</td>\n",
       "    </tr>\n",
       "    <tr>\n",
       "      <th>4</th>\n",
       "      <td>142107.34</td>\n",
       "      <td>91391.77</td>\n",
       "      <td>366168.42</td>\n",
       "      <td>166187.94</td>\n",
       "      <td>0</td>\n",
       "      <td>1</td>\n",
       "      <td>0</td>\n",
       "    </tr>\n",
       "  </tbody>\n",
       "</table>\n",
       "</div>"
      ],
      "text/plain": [
       "          RD  Administration  Marketing     Profit  S_Cali  S_flo  S_NY\n",
       "0  165349.20       136897.80  471784.10  192261.83       0      0     1\n",
       "1  162597.70       151377.59  443898.53  191792.06       1      0     0\n",
       "2  153441.51       101145.55  407934.54  191050.39       0      1     0\n",
       "3  144372.41       118671.85  383199.62  182901.99       0      0     1\n",
       "4  142107.34        91391.77  366168.42  166187.94       0      1     0"
      ]
     },
     "execution_count": 17,
     "metadata": {},
     "output_type": "execute_result"
    }
   ],
   "source": [
    "#Renaming the Columns\n",
    "startup.rename(columns={\"R&D Spend\":\"RD\",\"Marketing Spend\":\"Marketing\",\"State_California\":\"S_Cali\",\"State_Florida\": \"S_flo\",\"State_New York\":\"S_NY\"},inplace=True)\n",
    "startup.head()"
   ]
  },
  {
   "cell_type": "markdown",
   "id": "df7a5e29",
   "metadata": {},
   "source": [
    "### \n",
    "We need to standardize our data by using One Hot encoding technique and change state variable, because the state variable and other variable are different."
   ]
  },
  {
   "cell_type": "code",
   "execution_count": 18,
   "id": "2ecab9f1",
   "metadata": {
    "ExecuteTime": {
     "end_time": "2022-02-11T03:21:04.715646Z",
     "start_time": "2022-02-11T03:21:04.711656Z"
    }
   },
   "outputs": [],
   "source": [
    "#calling Standardsclar\n",
    "std = StandardScaler()"
   ]
  },
  {
   "cell_type": "code",
   "execution_count": 19,
   "id": "347316cc",
   "metadata": {
    "ExecuteTime": {
     "end_time": "2022-02-11T03:21:10.032031Z",
     "start_time": "2022-02-11T03:21:10.021060Z"
    }
   },
   "outputs": [],
   "source": [
    "#fit and transform\n",
    "startup_std = std.fit_transform(startup)"
   ]
  },
  {
   "cell_type": "code",
   "execution_count": 20,
   "id": "166b73a5",
   "metadata": {
    "ExecuteTime": {
     "end_time": "2022-02-11T03:21:18.396600Z",
     "start_time": "2022-02-11T03:21:18.378649Z"
    }
   },
   "outputs": [],
   "source": [
    "#creaiting new dataframe for startup_std \n",
    "startup_std = pd.DataFrame(startup_std,columns=startup.columns)"
   ]
  },
  {
   "cell_type": "code",
   "execution_count": 21,
   "id": "16858791",
   "metadata": {
    "ExecuteTime": {
     "end_time": "2022-02-11T03:21:23.239507Z",
     "start_time": "2022-02-11T03:21:23.220559Z"
    }
   },
   "outputs": [
    {
     "data": {
      "text/html": [
       "<div>\n",
       "<style scoped>\n",
       "    .dataframe tbody tr th:only-of-type {\n",
       "        vertical-align: middle;\n",
       "    }\n",
       "\n",
       "    .dataframe tbody tr th {\n",
       "        vertical-align: top;\n",
       "    }\n",
       "\n",
       "    .dataframe thead th {\n",
       "        text-align: right;\n",
       "    }\n",
       "</style>\n",
       "<table border=\"1\" class=\"dataframe\">\n",
       "  <thead>\n",
       "    <tr style=\"text-align: right;\">\n",
       "      <th></th>\n",
       "      <th>RD</th>\n",
       "      <th>Administration</th>\n",
       "      <th>Marketing</th>\n",
       "      <th>Profit</th>\n",
       "      <th>S_Cali</th>\n",
       "      <th>S_flo</th>\n",
       "      <th>S_NY</th>\n",
       "    </tr>\n",
       "  </thead>\n",
       "  <tbody>\n",
       "    <tr>\n",
       "      <th>0</th>\n",
       "      <td>2.016411</td>\n",
       "      <td>0.560753</td>\n",
       "      <td>2.153943</td>\n",
       "      <td>2.011203</td>\n",
       "      <td>-0.717741</td>\n",
       "      <td>-0.685994</td>\n",
       "      <td>1.393261</td>\n",
       "    </tr>\n",
       "    <tr>\n",
       "      <th>1</th>\n",
       "      <td>1.955860</td>\n",
       "      <td>1.082807</td>\n",
       "      <td>1.923600</td>\n",
       "      <td>1.999430</td>\n",
       "      <td>1.393261</td>\n",
       "      <td>-0.685994</td>\n",
       "      <td>-0.717741</td>\n",
       "    </tr>\n",
       "    <tr>\n",
       "      <th>2</th>\n",
       "      <td>1.754364</td>\n",
       "      <td>-0.728257</td>\n",
       "      <td>1.626528</td>\n",
       "      <td>1.980842</td>\n",
       "      <td>-0.717741</td>\n",
       "      <td>1.457738</td>\n",
       "      <td>-0.717741</td>\n",
       "    </tr>\n",
       "    <tr>\n",
       "      <th>3</th>\n",
       "      <td>1.554784</td>\n",
       "      <td>-0.096365</td>\n",
       "      <td>1.422210</td>\n",
       "      <td>1.776627</td>\n",
       "      <td>-0.717741</td>\n",
       "      <td>-0.685994</td>\n",
       "      <td>1.393261</td>\n",
       "    </tr>\n",
       "    <tr>\n",
       "      <th>4</th>\n",
       "      <td>1.504937</td>\n",
       "      <td>-1.079919</td>\n",
       "      <td>1.281528</td>\n",
       "      <td>1.357740</td>\n",
       "      <td>-0.717741</td>\n",
       "      <td>1.457738</td>\n",
       "      <td>-0.717741</td>\n",
       "    </tr>\n",
       "  </tbody>\n",
       "</table>\n",
       "</div>"
      ],
      "text/plain": [
       "         RD  Administration  Marketing    Profit    S_Cali     S_flo      S_NY\n",
       "0  2.016411        0.560753   2.153943  2.011203 -0.717741 -0.685994  1.393261\n",
       "1  1.955860        1.082807   1.923600  1.999430  1.393261 -0.685994 -0.717741\n",
       "2  1.754364       -0.728257   1.626528  1.980842 -0.717741  1.457738 -0.717741\n",
       "3  1.554784       -0.096365   1.422210  1.776627 -0.717741 -0.685994  1.393261\n",
       "4  1.504937       -1.079919   1.281528  1.357740 -0.717741  1.457738 -0.717741"
      ]
     },
     "execution_count": 21,
     "metadata": {},
     "output_type": "execute_result"
    }
   ],
   "source": [
    "startup_std.head()"
   ]
  },
  {
   "cell_type": "markdown",
   "id": "8c0cee5f",
   "metadata": {},
   "source": [
    "### Linear Regression Model"
   ]
  },
  {
   "cell_type": "code",
   "execution_count": 22,
   "id": "9d3b5ee5",
   "metadata": {
    "ExecuteTime": {
     "end_time": "2022-02-11T03:22:24.720507Z",
     "start_time": "2022-02-11T03:22:24.696343Z"
    }
   },
   "outputs": [],
   "source": [
    "model = smf.ols('Profit~RD+Administration+Marketing+S_Cali+S_flo+S_NY',data=startup_std).fit()"
   ]
  },
  {
   "cell_type": "code",
   "execution_count": 23,
   "id": "c475d0ac",
   "metadata": {
    "ExecuteTime": {
     "end_time": "2022-02-11T03:22:29.556779Z",
     "start_time": "2022-02-11T03:22:29.550795Z"
    }
   },
   "outputs": [
    {
     "data": {
      "text/plain": [
       "Intercept        -5.204170e-16\n",
       "RD                9.179307e-01\n",
       "Administration   -1.877136e-02\n",
       "Marketing         8.185781e-02\n",
       "S_Cali           -6.031706e-04\n",
       "S_flo             1.730042e-03\n",
       "S_NY             -1.100457e-03\n",
       "dtype: float64"
      ]
     },
     "execution_count": 23,
     "metadata": {},
     "output_type": "execute_result"
    }
   ],
   "source": [
    "model.params"
   ]
  },
  {
   "cell_type": "code",
   "execution_count": 24,
   "id": "560fae8e",
   "metadata": {
    "ExecuteTime": {
     "end_time": "2022-02-11T03:22:35.676905Z",
     "start_time": "2022-02-11T03:22:35.668927Z"
    }
   },
   "outputs": [
    {
     "name": "stdout",
     "output_type": "stream",
     "text": [
      "Intercept        -1.555556e-14\n",
      "RD                1.736858e+01\n",
      "Administration   -5.170116e-01\n",
      "Marketing         1.573889e+00\n",
      "S_Cali           -2.676515e-02\n",
      "S_flo             7.490466e-02\n",
      "S_NY             -4.931619e-02\n",
      "dtype: float64\n"
     ]
    }
   ],
   "source": [
    "#T value \n",
    "print(model.tvalues)"
   ]
  },
  {
   "cell_type": "code",
   "execution_count": 25,
   "id": "71a06bb9",
   "metadata": {
    "ExecuteTime": {
     "end_time": "2022-02-11T03:22:42.197075Z",
     "start_time": "2022-02-11T03:22:42.188100Z"
    }
   },
   "outputs": [
    {
     "name": "stdout",
     "output_type": "stream",
     "text": [
      "Intercept         1.000000e+00\n",
      "RD                2.578772e-21\n",
      "Administration    6.077373e-01\n",
      "Marketing         1.226769e-01\n",
      "S_Cali            9.787681e-01\n",
      "S_flo             9.406301e-01\n",
      "S_NY              9.608905e-01\n",
      "dtype: float64\n"
     ]
    }
   ],
   "source": [
    "#P value\n",
    "print(model.pvalues)"
   ]
  },
  {
   "cell_type": "code",
   "execution_count": 26,
   "id": "acf3d5de",
   "metadata": {
    "ExecuteTime": {
     "end_time": "2022-02-11T03:22:48.248947Z",
     "start_time": "2022-02-11T03:22:48.218030Z"
    }
   },
   "outputs": [
    {
     "data": {
      "text/html": [
       "<table class=\"simpletable\">\n",
       "<caption>OLS Regression Results</caption>\n",
       "<tr>\n",
       "  <th>Dep. Variable:</th>         <td>Profit</td>      <th>  R-squared:         </th> <td>   0.951</td>\n",
       "</tr>\n",
       "<tr>\n",
       "  <th>Model:</th>                   <td>OLS</td>       <th>  Adj. R-squared:    </th> <td>   0.945</td>\n",
       "</tr>\n",
       "<tr>\n",
       "  <th>Method:</th>             <td>Least Squares</td>  <th>  F-statistic:       </th> <td>   169.9</td>\n",
       "</tr>\n",
       "<tr>\n",
       "  <th>Date:</th>             <td>Thu, 10 Feb 2022</td> <th>  Prob (F-statistic):</th> <td>1.34e-27</td>\n",
       "</tr>\n",
       "<tr>\n",
       "  <th>Time:</th>                 <td>22:22:48</td>     <th>  Log-Likelihood:    </th> <td>  4.3255</td>\n",
       "</tr>\n",
       "<tr>\n",
       "  <th>No. Observations:</th>      <td>    50</td>      <th>  AIC:               </th> <td>   3.349</td>\n",
       "</tr>\n",
       "<tr>\n",
       "  <th>Df Residuals:</th>          <td>    44</td>      <th>  BIC:               </th> <td>   14.82</td>\n",
       "</tr>\n",
       "<tr>\n",
       "  <th>Df Model:</th>              <td>     5</td>      <th>                     </th>     <td> </td>   \n",
       "</tr>\n",
       "<tr>\n",
       "  <th>Covariance Type:</th>      <td>nonrobust</td>    <th>                     </th>     <td> </td>   \n",
       "</tr>\n",
       "</table>\n",
       "<table class=\"simpletable\">\n",
       "<tr>\n",
       "         <td></td>           <th>coef</th>     <th>std err</th>      <th>t</th>      <th>P>|t|</th>  <th>[0.025</th>    <th>0.975]</th>  \n",
       "</tr>\n",
       "<tr>\n",
       "  <th>Intercept</th>      <td>-5.204e-16</td> <td>    0.033</td> <td>-1.56e-14</td> <td> 1.000</td> <td>   -0.067</td> <td>    0.067</td>\n",
       "</tr>\n",
       "<tr>\n",
       "  <th>RD</th>             <td>    0.9179</td> <td>    0.053</td> <td>   17.369</td> <td> 0.000</td> <td>    0.811</td> <td>    1.024</td>\n",
       "</tr>\n",
       "<tr>\n",
       "  <th>Administration</th> <td>   -0.0188</td> <td>    0.036</td> <td>   -0.517</td> <td> 0.608</td> <td>   -0.092</td> <td>    0.054</td>\n",
       "</tr>\n",
       "<tr>\n",
       "  <th>Marketing</th>      <td>    0.0819</td> <td>    0.052</td> <td>    1.574</td> <td> 0.123</td> <td>   -0.023</td> <td>    0.187</td>\n",
       "</tr>\n",
       "<tr>\n",
       "  <th>S_Cali</th>         <td>   -0.0006</td> <td>    0.023</td> <td>   -0.027</td> <td> 0.979</td> <td>   -0.046</td> <td>    0.045</td>\n",
       "</tr>\n",
       "<tr>\n",
       "  <th>S_flo</th>          <td>    0.0017</td> <td>    0.023</td> <td>    0.075</td> <td> 0.941</td> <td>   -0.045</td> <td>    0.048</td>\n",
       "</tr>\n",
       "<tr>\n",
       "  <th>S_NY</th>           <td>   -0.0011</td> <td>    0.022</td> <td>   -0.049</td> <td> 0.961</td> <td>   -0.046</td> <td>    0.044</td>\n",
       "</tr>\n",
       "</table>\n",
       "<table class=\"simpletable\">\n",
       "<tr>\n",
       "  <th>Omnibus:</th>       <td>14.782</td> <th>  Durbin-Watson:     </th> <td>   1.283</td>\n",
       "</tr>\n",
       "<tr>\n",
       "  <th>Prob(Omnibus):</th> <td> 0.001</td> <th>  Jarque-Bera (JB):  </th> <td>  21.266</td>\n",
       "</tr>\n",
       "<tr>\n",
       "  <th>Skew:</th>          <td>-0.948</td> <th>  Prob(JB):          </th> <td>2.41e-05</td>\n",
       "</tr>\n",
       "<tr>\n",
       "  <th>Kurtosis:</th>      <td> 5.572</td> <th>  Cond. No.          </th> <td>1.21e+16</td>\n",
       "</tr>\n",
       "</table><br/><br/>Notes:<br/>[1] Standard Errors assume that the covariance matrix of the errors is correctly specified.<br/>[2] The smallest eigenvalue is 6.69e-31. This might indicate that there are<br/>strong multicollinearity problems or that the design matrix is singular."
      ],
      "text/plain": [
       "<class 'statsmodels.iolib.summary.Summary'>\n",
       "\"\"\"\n",
       "                            OLS Regression Results                            \n",
       "==============================================================================\n",
       "Dep. Variable:                 Profit   R-squared:                       0.951\n",
       "Model:                            OLS   Adj. R-squared:                  0.945\n",
       "Method:                 Least Squares   F-statistic:                     169.9\n",
       "Date:                Thu, 10 Feb 2022   Prob (F-statistic):           1.34e-27\n",
       "Time:                        22:22:48   Log-Likelihood:                 4.3255\n",
       "No. Observations:                  50   AIC:                             3.349\n",
       "Df Residuals:                      44   BIC:                             14.82\n",
       "Df Model:                           5                                         \n",
       "Covariance Type:            nonrobust                                         \n",
       "==================================================================================\n",
       "                     coef    std err          t      P>|t|      [0.025      0.975]\n",
       "----------------------------------------------------------------------------------\n",
       "Intercept      -5.204e-16      0.033  -1.56e-14      1.000      -0.067       0.067\n",
       "RD                 0.9179      0.053     17.369      0.000       0.811       1.024\n",
       "Administration    -0.0188      0.036     -0.517      0.608      -0.092       0.054\n",
       "Marketing          0.0819      0.052      1.574      0.123      -0.023       0.187\n",
       "S_Cali            -0.0006      0.023     -0.027      0.979      -0.046       0.045\n",
       "S_flo              0.0017      0.023      0.075      0.941      -0.045       0.048\n",
       "S_NY              -0.0011      0.022     -0.049      0.961      -0.046       0.044\n",
       "==============================================================================\n",
       "Omnibus:                       14.782   Durbin-Watson:                   1.283\n",
       "Prob(Omnibus):                  0.001   Jarque-Bera (JB):               21.266\n",
       "Skew:                          -0.948   Prob(JB):                     2.41e-05\n",
       "Kurtosis:                       5.572   Cond. No.                     1.21e+16\n",
       "==============================================================================\n",
       "\n",
       "Notes:\n",
       "[1] Standard Errors assume that the covariance matrix of the errors is correctly specified.\n",
       "[2] The smallest eigenvalue is 6.69e-31. This might indicate that there are\n",
       "strong multicollinearity problems or that the design matrix is singular.\n",
       "\"\"\""
      ]
     },
     "execution_count": 26,
     "metadata": {},
     "output_type": "execute_result"
    }
   ],
   "source": [
    "#Summary\n",
    "model.summary()"
   ]
  },
  {
   "cell_type": "markdown",
   "id": "4c3485cb",
   "metadata": {},
   "source": [
    "#### \n",
    "We can see in the table the p value for Administration, State California, State Floridia, State New York is above 0.05 so we ned to check the provit affected to this columns individually"
   ]
  },
  {
   "cell_type": "markdown",
   "id": "876e4f66",
   "metadata": {},
   "source": [
    "## Calculating Simple Linear Regression Individually"
   ]
  },
  {
   "cell_type": "code",
   "execution_count": 27,
   "id": "089d96c7",
   "metadata": {
    "ExecuteTime": {
     "end_time": "2022-02-11T03:26:13.389110Z",
     "start_time": "2022-02-11T03:26:13.373978Z"
    }
   },
   "outputs": [],
   "source": [
    "#Profit And Administration\n",
    "model_pa = smf.ols('Profit~Administration',data=startup_std).fit()"
   ]
  },
  {
   "cell_type": "code",
   "execution_count": 28,
   "id": "dff08027",
   "metadata": {
    "ExecuteTime": {
     "end_time": "2022-02-11T03:26:18.311228Z",
     "start_time": "2022-02-11T03:26:18.294282Z"
    }
   },
   "outputs": [
    {
     "data": {
      "text/html": [
       "<table class=\"simpletable\">\n",
       "<caption>OLS Regression Results</caption>\n",
       "<tr>\n",
       "  <th>Dep. Variable:</th>         <td>Profit</td>      <th>  R-squared:         </th> <td>   0.040</td>\n",
       "</tr>\n",
       "<tr>\n",
       "  <th>Model:</th>                   <td>OLS</td>       <th>  Adj. R-squared:    </th> <td>   0.020</td>\n",
       "</tr>\n",
       "<tr>\n",
       "  <th>Method:</th>             <td>Least Squares</td>  <th>  F-statistic:       </th> <td>   2.015</td>\n",
       "</tr>\n",
       "<tr>\n",
       "  <th>Date:</th>             <td>Thu, 10 Feb 2022</td> <th>  Prob (F-statistic):</th>  <td> 0.162</td> \n",
       "</tr>\n",
       "<tr>\n",
       "  <th>Time:</th>                 <td>22:26:18</td>     <th>  Log-Likelihood:    </th> <td> -69.919</td>\n",
       "</tr>\n",
       "<tr>\n",
       "  <th>No. Observations:</th>      <td>    50</td>      <th>  AIC:               </th> <td>   143.8</td>\n",
       "</tr>\n",
       "<tr>\n",
       "  <th>Df Residuals:</th>          <td>    48</td>      <th>  BIC:               </th> <td>   147.7</td>\n",
       "</tr>\n",
       "<tr>\n",
       "  <th>Df Model:</th>              <td>     1</td>      <th>                     </th>     <td> </td>   \n",
       "</tr>\n",
       "<tr>\n",
       "  <th>Covariance Type:</th>      <td>nonrobust</td>    <th>                     </th>     <td> </td>   \n",
       "</tr>\n",
       "</table>\n",
       "<table class=\"simpletable\">\n",
       "<tr>\n",
       "         <td></td>           <th>coef</th>     <th>std err</th>      <th>t</th>      <th>P>|t|</th>  <th>[0.025</th>    <th>0.975]</th>  \n",
       "</tr>\n",
       "<tr>\n",
       "  <th>Intercept</th>      <td>-5.204e-16</td> <td>    0.141</td> <td>-3.68e-15</td> <td> 1.000</td> <td>   -0.284</td> <td>    0.284</td>\n",
       "</tr>\n",
       "<tr>\n",
       "  <th>Administration</th> <td>    0.2007</td> <td>    0.141</td> <td>    1.419</td> <td> 0.162</td> <td>   -0.084</td> <td>    0.485</td>\n",
       "</tr>\n",
       "</table>\n",
       "<table class=\"simpletable\">\n",
       "<tr>\n",
       "  <th>Omnibus:</th>       <td> 0.126</td> <th>  Durbin-Watson:     </th> <td>   0.099</td>\n",
       "</tr>\n",
       "<tr>\n",
       "  <th>Prob(Omnibus):</th> <td> 0.939</td> <th>  Jarque-Bera (JB):  </th> <td>   0.110</td>\n",
       "</tr>\n",
       "<tr>\n",
       "  <th>Skew:</th>          <td> 0.093</td> <th>  Prob(JB):          </th> <td>   0.947</td>\n",
       "</tr>\n",
       "<tr>\n",
       "  <th>Kurtosis:</th>      <td> 2.866</td> <th>  Cond. No.          </th> <td>    1.00</td>\n",
       "</tr>\n",
       "</table><br/><br/>Notes:<br/>[1] Standard Errors assume that the covariance matrix of the errors is correctly specified."
      ],
      "text/plain": [
       "<class 'statsmodels.iolib.summary.Summary'>\n",
       "\"\"\"\n",
       "                            OLS Regression Results                            \n",
       "==============================================================================\n",
       "Dep. Variable:                 Profit   R-squared:                       0.040\n",
       "Model:                            OLS   Adj. R-squared:                  0.020\n",
       "Method:                 Least Squares   F-statistic:                     2.015\n",
       "Date:                Thu, 10 Feb 2022   Prob (F-statistic):              0.162\n",
       "Time:                        22:26:18   Log-Likelihood:                -69.919\n",
       "No. Observations:                  50   AIC:                             143.8\n",
       "Df Residuals:                      48   BIC:                             147.7\n",
       "Df Model:                           1                                         \n",
       "Covariance Type:            nonrobust                                         \n",
       "==================================================================================\n",
       "                     coef    std err          t      P>|t|      [0.025      0.975]\n",
       "----------------------------------------------------------------------------------\n",
       "Intercept      -5.204e-16      0.141  -3.68e-15      1.000      -0.284       0.284\n",
       "Administration     0.2007      0.141      1.419      0.162      -0.084       0.485\n",
       "==============================================================================\n",
       "Omnibus:                        0.126   Durbin-Watson:                   0.099\n",
       "Prob(Omnibus):                  0.939   Jarque-Bera (JB):                0.110\n",
       "Skew:                           0.093   Prob(JB):                        0.947\n",
       "Kurtosis:                       2.866   Cond. No.                         1.00\n",
       "==============================================================================\n",
       "\n",
       "Notes:\n",
       "[1] Standard Errors assume that the covariance matrix of the errors is correctly specified.\n",
       "\"\"\""
      ]
     },
     "execution_count": 28,
     "metadata": {},
     "output_type": "execute_result"
    }
   ],
   "source": [
    "model_pa.summary()"
   ]
  },
  {
   "cell_type": "markdown",
   "id": "eee2c91d",
   "metadata": {},
   "source": [
    "## \n",
    "p value is 0.162 which is more than 0.05 and correlation value is less which is 0.2 so we can conclude that Administration is not that important for calculating Profit prediction."
   ]
  },
  {
   "cell_type": "code",
   "execution_count": 29,
   "id": "db967cf6",
   "metadata": {
    "ExecuteTime": {
     "end_time": "2022-02-11T03:27:06.686948Z",
     "start_time": "2022-02-11T03:27:06.676974Z"
    }
   },
   "outputs": [],
   "source": [
    "#Profit and Marketing\n",
    "model_pm = smf.ols('Profit~Marketing',data=startup_std).fit()"
   ]
  },
  {
   "cell_type": "code",
   "execution_count": 30,
   "id": "f98d9534",
   "metadata": {
    "ExecuteTime": {
     "end_time": "2022-02-11T03:27:12.362851Z",
     "start_time": "2022-02-11T03:27:12.342905Z"
    }
   },
   "outputs": [
    {
     "data": {
      "text/html": [
       "<table class=\"simpletable\">\n",
       "<caption>OLS Regression Results</caption>\n",
       "<tr>\n",
       "  <th>Dep. Variable:</th>         <td>Profit</td>      <th>  R-squared:         </th> <td>   0.559</td>\n",
       "</tr>\n",
       "<tr>\n",
       "  <th>Model:</th>                   <td>OLS</td>       <th>  Adj. R-squared:    </th> <td>   0.550</td>\n",
       "</tr>\n",
       "<tr>\n",
       "  <th>Method:</th>             <td>Least Squares</td>  <th>  F-statistic:       </th> <td>   60.88</td>\n",
       "</tr>\n",
       "<tr>\n",
       "  <th>Date:</th>             <td>Thu, 10 Feb 2022</td> <th>  Prob (F-statistic):</th> <td>4.38e-10</td>\n",
       "</tr>\n",
       "<tr>\n",
       "  <th>Time:</th>                 <td>22:27:12</td>     <th>  Log-Likelihood:    </th> <td> -50.470</td>\n",
       "</tr>\n",
       "<tr>\n",
       "  <th>No. Observations:</th>      <td>    50</td>      <th>  AIC:               </th> <td>   104.9</td>\n",
       "</tr>\n",
       "<tr>\n",
       "  <th>Df Residuals:</th>          <td>    48</td>      <th>  BIC:               </th> <td>   108.8</td>\n",
       "</tr>\n",
       "<tr>\n",
       "  <th>Df Model:</th>              <td>     1</td>      <th>                     </th>     <td> </td>   \n",
       "</tr>\n",
       "<tr>\n",
       "  <th>Covariance Type:</th>      <td>nonrobust</td>    <th>                     </th>     <td> </td>   \n",
       "</tr>\n",
       "</table>\n",
       "<table class=\"simpletable\">\n",
       "<tr>\n",
       "      <td></td>         <th>coef</th>     <th>std err</th>      <th>t</th>      <th>P>|t|</th>  <th>[0.025</th>    <th>0.975]</th>  \n",
       "</tr>\n",
       "<tr>\n",
       "  <th>Intercept</th> <td>-5.204e-16</td> <td>    0.096</td> <td>-5.43e-15</td> <td> 1.000</td> <td>   -0.193</td> <td>    0.193</td>\n",
       "</tr>\n",
       "<tr>\n",
       "  <th>Marketing</th> <td>    0.7478</td> <td>    0.096</td> <td>    7.803</td> <td> 0.000</td> <td>    0.555</td> <td>    0.940</td>\n",
       "</tr>\n",
       "</table>\n",
       "<table class=\"simpletable\">\n",
       "<tr>\n",
       "  <th>Omnibus:</th>       <td> 4.420</td> <th>  Durbin-Watson:     </th> <td>   1.178</td>\n",
       "</tr>\n",
       "<tr>\n",
       "  <th>Prob(Omnibus):</th> <td> 0.110</td> <th>  Jarque-Bera (JB):  </th> <td>   3.882</td>\n",
       "</tr>\n",
       "<tr>\n",
       "  <th>Skew:</th>          <td>-0.336</td> <th>  Prob(JB):          </th> <td>   0.144</td>\n",
       "</tr>\n",
       "<tr>\n",
       "  <th>Kurtosis:</th>      <td> 4.188</td> <th>  Cond. No.          </th> <td>    1.00</td>\n",
       "</tr>\n",
       "</table><br/><br/>Notes:<br/>[1] Standard Errors assume that the covariance matrix of the errors is correctly specified."
      ],
      "text/plain": [
       "<class 'statsmodels.iolib.summary.Summary'>\n",
       "\"\"\"\n",
       "                            OLS Regression Results                            \n",
       "==============================================================================\n",
       "Dep. Variable:                 Profit   R-squared:                       0.559\n",
       "Model:                            OLS   Adj. R-squared:                  0.550\n",
       "Method:                 Least Squares   F-statistic:                     60.88\n",
       "Date:                Thu, 10 Feb 2022   Prob (F-statistic):           4.38e-10\n",
       "Time:                        22:27:12   Log-Likelihood:                -50.470\n",
       "No. Observations:                  50   AIC:                             104.9\n",
       "Df Residuals:                      48   BIC:                             108.8\n",
       "Df Model:                           1                                         \n",
       "Covariance Type:            nonrobust                                         \n",
       "==============================================================================\n",
       "                 coef    std err          t      P>|t|      [0.025      0.975]\n",
       "------------------------------------------------------------------------------\n",
       "Intercept  -5.204e-16      0.096  -5.43e-15      1.000      -0.193       0.193\n",
       "Marketing      0.7478      0.096      7.803      0.000       0.555       0.940\n",
       "==============================================================================\n",
       "Omnibus:                        4.420   Durbin-Watson:                   1.178\n",
       "Prob(Omnibus):                  0.110   Jarque-Bera (JB):                3.882\n",
       "Skew:                          -0.336   Prob(JB):                        0.144\n",
       "Kurtosis:                       4.188   Cond. No.                         1.00\n",
       "==============================================================================\n",
       "\n",
       "Notes:\n",
       "[1] Standard Errors assume that the covariance matrix of the errors is correctly specified.\n",
       "\"\"\""
      ]
     },
     "execution_count": 30,
     "metadata": {},
     "output_type": "execute_result"
    }
   ],
   "source": [
    "model_pm.summary()"
   ]
  },
  {
   "cell_type": "markdown",
   "id": "03a9c68f",
   "metadata": {},
   "source": [
    "###\n",
    "we can see the p value is 0 which is less than 0.05 and correlation between then is 0.75 so we can say that Profit is dependent on Marketing Spend. We also need to check the VIF for further clarification."
   ]
  },
  {
   "cell_type": "code",
   "execution_count": 31,
   "id": "597c28c5",
   "metadata": {
    "ExecuteTime": {
     "end_time": "2022-02-11T03:27:52.966522Z",
     "start_time": "2022-02-11T03:27:52.956548Z"
    }
   },
   "outputs": [],
   "source": [
    "#Profit and R&D Spend\n",
    "model_pr  = smf.ols('Profit~RD',data=startup_std).fit()"
   ]
  },
  {
   "cell_type": "code",
   "execution_count": 32,
   "id": "294c222d",
   "metadata": {
    "ExecuteTime": {
     "end_time": "2022-02-11T03:28:02.662531Z",
     "start_time": "2022-02-11T03:28:02.628621Z"
    }
   },
   "outputs": [
    {
     "data": {
      "text/html": [
       "<table class=\"simpletable\">\n",
       "<caption>OLS Regression Results</caption>\n",
       "<tr>\n",
       "  <th>Dep. Variable:</th>         <td>Profit</td>      <th>  R-squared:         </th> <td>   0.947</td>\n",
       "</tr>\n",
       "<tr>\n",
       "  <th>Model:</th>                   <td>OLS</td>       <th>  Adj. R-squared:    </th> <td>   0.945</td>\n",
       "</tr>\n",
       "<tr>\n",
       "  <th>Method:</th>             <td>Least Squares</td>  <th>  F-statistic:       </th> <td>   849.8</td>\n",
       "</tr>\n",
       "<tr>\n",
       "  <th>Date:</th>             <td>Thu, 10 Feb 2022</td> <th>  Prob (F-statistic):</th> <td>3.50e-32</td>\n",
       "</tr>\n",
       "<tr>\n",
       "  <th>Time:</th>                 <td>22:28:02</td>     <th>  Log-Likelihood:    </th> <td>  2.2714</td>\n",
       "</tr>\n",
       "<tr>\n",
       "  <th>No. Observations:</th>      <td>    50</td>      <th>  AIC:               </th> <td> -0.5428</td>\n",
       "</tr>\n",
       "<tr>\n",
       "  <th>Df Residuals:</th>          <td>    48</td>      <th>  BIC:               </th> <td>   3.281</td>\n",
       "</tr>\n",
       "<tr>\n",
       "  <th>Df Model:</th>              <td>     1</td>      <th>                     </th>     <td> </td>   \n",
       "</tr>\n",
       "<tr>\n",
       "  <th>Covariance Type:</th>      <td>nonrobust</td>    <th>                     </th>     <td> </td>   \n",
       "</tr>\n",
       "</table>\n",
       "<table class=\"simpletable\">\n",
       "<tr>\n",
       "      <td></td>         <th>coef</th>     <th>std err</th>      <th>t</th>      <th>P>|t|</th>  <th>[0.025</th>    <th>0.975]</th>  \n",
       "</tr>\n",
       "<tr>\n",
       "  <th>Intercept</th> <td>-5.204e-16</td> <td>    0.033</td> <td>-1.56e-14</td> <td> 1.000</td> <td>   -0.067</td> <td>    0.067</td>\n",
       "</tr>\n",
       "<tr>\n",
       "  <th>RD</th>        <td>    0.9729</td> <td>    0.033</td> <td>   29.151</td> <td> 0.000</td> <td>    0.906</td> <td>    1.040</td>\n",
       "</tr>\n",
       "</table>\n",
       "<table class=\"simpletable\">\n",
       "<tr>\n",
       "  <th>Omnibus:</th>       <td>13.727</td> <th>  Durbin-Watson:     </th> <td>   1.116</td>\n",
       "</tr>\n",
       "<tr>\n",
       "  <th>Prob(Omnibus):</th> <td> 0.001</td> <th>  Jarque-Bera (JB):  </th> <td>  18.536</td>\n",
       "</tr>\n",
       "<tr>\n",
       "  <th>Skew:</th>          <td>-0.911</td> <th>  Prob(JB):          </th> <td>9.44e-05</td>\n",
       "</tr>\n",
       "<tr>\n",
       "  <th>Kurtosis:</th>      <td> 5.361</td> <th>  Cond. No.          </th> <td>    1.00</td>\n",
       "</tr>\n",
       "</table><br/><br/>Notes:<br/>[1] Standard Errors assume that the covariance matrix of the errors is correctly specified."
      ],
      "text/plain": [
       "<class 'statsmodels.iolib.summary.Summary'>\n",
       "\"\"\"\n",
       "                            OLS Regression Results                            \n",
       "==============================================================================\n",
       "Dep. Variable:                 Profit   R-squared:                       0.947\n",
       "Model:                            OLS   Adj. R-squared:                  0.945\n",
       "Method:                 Least Squares   F-statistic:                     849.8\n",
       "Date:                Thu, 10 Feb 2022   Prob (F-statistic):           3.50e-32\n",
       "Time:                        22:28:02   Log-Likelihood:                 2.2714\n",
       "No. Observations:                  50   AIC:                           -0.5428\n",
       "Df Residuals:                      48   BIC:                             3.281\n",
       "Df Model:                           1                                         \n",
       "Covariance Type:            nonrobust                                         \n",
       "==============================================================================\n",
       "                 coef    std err          t      P>|t|      [0.025      0.975]\n",
       "------------------------------------------------------------------------------\n",
       "Intercept  -5.204e-16      0.033  -1.56e-14      1.000      -0.067       0.067\n",
       "RD             0.9729      0.033     29.151      0.000       0.906       1.040\n",
       "==============================================================================\n",
       "Omnibus:                       13.727   Durbin-Watson:                   1.116\n",
       "Prob(Omnibus):                  0.001   Jarque-Bera (JB):               18.536\n",
       "Skew:                          -0.911   Prob(JB):                     9.44e-05\n",
       "Kurtosis:                       5.361   Cond. No.                         1.00\n",
       "==============================================================================\n",
       "\n",
       "Notes:\n",
       "[1] Standard Errors assume that the covariance matrix of the errors is correctly specified.\n",
       "\"\"\""
      ]
     },
     "execution_count": 32,
     "metadata": {},
     "output_type": "execute_result"
    }
   ],
   "source": [
    "model_pr.summary()"
   ]
  },
  {
   "cell_type": "markdown",
   "id": "b8b1461c",
   "metadata": {},
   "source": [
    "### \n",
    "we can see the p value is 0 whcih is less than 0.05 and correlation is 0.97 so we can conclude that Profit is dependent on R&D Spend."
   ]
  },
  {
   "cell_type": "code",
   "execution_count": 33,
   "id": "a88ca8d4",
   "metadata": {
    "ExecuteTime": {
     "end_time": "2022-02-11T03:28:44.735177Z",
     "start_time": "2022-02-11T03:28:44.716228Z"
    }
   },
   "outputs": [],
   "source": [
    "#Profit and State California\n",
    "model_sc = smf.ols('Profit~S_Cali',data=startup_std).fit()"
   ]
  },
  {
   "cell_type": "code",
   "execution_count": 34,
   "id": "127f6883",
   "metadata": {
    "ExecuteTime": {
     "end_time": "2022-02-11T03:28:51.024706Z",
     "start_time": "2022-02-11T03:28:50.861119Z"
    }
   },
   "outputs": [
    {
     "data": {
      "text/html": [
       "<table class=\"simpletable\">\n",
       "<caption>OLS Regression Results</caption>\n",
       "<tr>\n",
       "  <th>Dep. Variable:</th>         <td>Profit</td>      <th>  R-squared:         </th> <td>   0.021</td>\n",
       "</tr>\n",
       "<tr>\n",
       "  <th>Model:</th>                   <td>OLS</td>       <th>  Adj. R-squared:    </th> <td>   0.001</td>\n",
       "</tr>\n",
       "<tr>\n",
       "  <th>Method:</th>             <td>Least Squares</td>  <th>  F-statistic:       </th> <td>   1.043</td>\n",
       "</tr>\n",
       "<tr>\n",
       "  <th>Date:</th>             <td>Thu, 10 Feb 2022</td> <th>  Prob (F-statistic):</th>  <td> 0.312</td> \n",
       "</tr>\n",
       "<tr>\n",
       "  <th>Time:</th>                 <td>22:28:50</td>     <th>  Log-Likelihood:    </th> <td> -70.409</td>\n",
       "</tr>\n",
       "<tr>\n",
       "  <th>No. Observations:</th>      <td>    50</td>      <th>  AIC:               </th> <td>   144.8</td>\n",
       "</tr>\n",
       "<tr>\n",
       "  <th>Df Residuals:</th>          <td>    48</td>      <th>  BIC:               </th> <td>   148.6</td>\n",
       "</tr>\n",
       "<tr>\n",
       "  <th>Df Model:</th>              <td>     1</td>      <th>                     </th>     <td> </td>   \n",
       "</tr>\n",
       "<tr>\n",
       "  <th>Covariance Type:</th>      <td>nonrobust</td>    <th>                     </th>     <td> </td>   \n",
       "</tr>\n",
       "</table>\n",
       "<table class=\"simpletable\">\n",
       "<tr>\n",
       "      <td></td>         <th>coef</th>     <th>std err</th>      <th>t</th>      <th>P>|t|</th>  <th>[0.025</th>    <th>0.975]</th>  \n",
       "</tr>\n",
       "<tr>\n",
       "  <th>Intercept</th> <td>-5.204e-16</td> <td>    0.143</td> <td>-3.64e-15</td> <td> 1.000</td> <td>   -0.287</td> <td>    0.287</td>\n",
       "</tr>\n",
       "<tr>\n",
       "  <th>S_Cali</th>    <td>   -0.1458</td> <td>    0.143</td> <td>   -1.021</td> <td> 0.312</td> <td>   -0.433</td> <td>    0.141</td>\n",
       "</tr>\n",
       "</table>\n",
       "<table class=\"simpletable\">\n",
       "<tr>\n",
       "  <th>Omnibus:</th>       <td> 0.079</td> <th>  Durbin-Watson:     </th> <td>   0.073</td>\n",
       "</tr>\n",
       "<tr>\n",
       "  <th>Prob(Omnibus):</th> <td> 0.961</td> <th>  Jarque-Bera (JB):  </th> <td>   0.190</td>\n",
       "</tr>\n",
       "<tr>\n",
       "  <th>Skew:</th>          <td> 0.087</td> <th>  Prob(JB):          </th> <td>   0.909</td>\n",
       "</tr>\n",
       "<tr>\n",
       "  <th>Kurtosis:</th>      <td> 2.753</td> <th>  Cond. No.          </th> <td>    1.00</td>\n",
       "</tr>\n",
       "</table><br/><br/>Notes:<br/>[1] Standard Errors assume that the covariance matrix of the errors is correctly specified."
      ],
      "text/plain": [
       "<class 'statsmodels.iolib.summary.Summary'>\n",
       "\"\"\"\n",
       "                            OLS Regression Results                            \n",
       "==============================================================================\n",
       "Dep. Variable:                 Profit   R-squared:                       0.021\n",
       "Model:                            OLS   Adj. R-squared:                  0.001\n",
       "Method:                 Least Squares   F-statistic:                     1.043\n",
       "Date:                Thu, 10 Feb 2022   Prob (F-statistic):              0.312\n",
       "Time:                        22:28:50   Log-Likelihood:                -70.409\n",
       "No. Observations:                  50   AIC:                             144.8\n",
       "Df Residuals:                      48   BIC:                             148.6\n",
       "Df Model:                           1                                         \n",
       "Covariance Type:            nonrobust                                         \n",
       "==============================================================================\n",
       "                 coef    std err          t      P>|t|      [0.025      0.975]\n",
       "------------------------------------------------------------------------------\n",
       "Intercept  -5.204e-16      0.143  -3.64e-15      1.000      -0.287       0.287\n",
       "S_Cali        -0.1458      0.143     -1.021      0.312      -0.433       0.141\n",
       "==============================================================================\n",
       "Omnibus:                        0.079   Durbin-Watson:                   0.073\n",
       "Prob(Omnibus):                  0.961   Jarque-Bera (JB):                0.190\n",
       "Skew:                           0.087   Prob(JB):                        0.909\n",
       "Kurtosis:                       2.753   Cond. No.                         1.00\n",
       "==============================================================================\n",
       "\n",
       "Notes:\n",
       "[1] Standard Errors assume that the covariance matrix of the errors is correctly specified.\n",
       "\"\"\""
      ]
     },
     "execution_count": 34,
     "metadata": {},
     "output_type": "execute_result"
    }
   ],
   "source": [
    "model_sc.summary()"
   ]
  },
  {
   "cell_type": "markdown",
   "id": "2af2f83a",
   "metadata": {},
   "source": [
    "### \n",
    "we can see the p value is 0.312 and it is more than 0.05 and the correlation value is -0.15 so we can say that the Profit is not dependent on state califonia variable.`"
   ]
  },
  {
   "cell_type": "code",
   "execution_count": 35,
   "id": "41d27749",
   "metadata": {
    "ExecuteTime": {
     "end_time": "2022-02-11T03:29:40.188680Z",
     "start_time": "2022-02-11T03:29:40.170728Z"
    }
   },
   "outputs": [],
   "source": [
    "#Profit and State Florida\n",
    "model_sf = smf.ols('Profit~S_flo',data=startup_std).fit()"
   ]
  },
  {
   "cell_type": "code",
   "execution_count": 36,
   "id": "a3905697",
   "metadata": {
    "ExecuteTime": {
     "end_time": "2022-02-11T03:29:45.811545Z",
     "start_time": "2022-02-11T03:29:45.791599Z"
    }
   },
   "outputs": [
    {
     "data": {
      "text/html": [
       "<table class=\"simpletable\">\n",
       "<caption>OLS Regression Results</caption>\n",
       "<tr>\n",
       "  <th>Dep. Variable:</th>         <td>Profit</td>      <th>  R-squared:         </th> <td>   0.014</td>\n",
       "</tr>\n",
       "<tr>\n",
       "  <th>Model:</th>                   <td>OLS</td>       <th>  Adj. R-squared:    </th> <td>  -0.007</td>\n",
       "</tr>\n",
       "<tr>\n",
       "  <th>Method:</th>             <td>Least Squares</td>  <th>  F-statistic:       </th> <td>  0.6575</td>\n",
       "</tr>\n",
       "<tr>\n",
       "  <th>Date:</th>             <td>Thu, 10 Feb 2022</td> <th>  Prob (F-statistic):</th>  <td> 0.421</td> \n",
       "</tr>\n",
       "<tr>\n",
       "  <th>Time:</th>                 <td>22:29:45</td>     <th>  Log-Likelihood:    </th> <td> -70.607</td>\n",
       "</tr>\n",
       "<tr>\n",
       "  <th>No. Observations:</th>      <td>    50</td>      <th>  AIC:               </th> <td>   145.2</td>\n",
       "</tr>\n",
       "<tr>\n",
       "  <th>Df Residuals:</th>          <td>    48</td>      <th>  BIC:               </th> <td>   149.0</td>\n",
       "</tr>\n",
       "<tr>\n",
       "  <th>Df Model:</th>              <td>     1</td>      <th>                     </th>     <td> </td>   \n",
       "</tr>\n",
       "<tr>\n",
       "  <th>Covariance Type:</th>      <td>nonrobust</td>    <th>                     </th>     <td> </td>   \n",
       "</tr>\n",
       "</table>\n",
       "<table class=\"simpletable\">\n",
       "<tr>\n",
       "      <td></td>         <th>coef</th>     <th>std err</th>      <th>t</th>      <th>P>|t|</th>  <th>[0.025</th>    <th>0.975]</th>  \n",
       "</tr>\n",
       "<tr>\n",
       "  <th>Intercept</th> <td>-5.204e-16</td> <td>    0.143</td> <td>-3.63e-15</td> <td> 1.000</td> <td>   -0.288</td> <td>    0.288</td>\n",
       "</tr>\n",
       "<tr>\n",
       "  <th>S_flo</th>     <td>    0.1162</td> <td>    0.143</td> <td>    0.811</td> <td> 0.421</td> <td>   -0.172</td> <td>    0.404</td>\n",
       "</tr>\n",
       "</table>\n",
       "<table class=\"simpletable\">\n",
       "<tr>\n",
       "  <th>Omnibus:</th>       <td> 0.077</td> <th>  Durbin-Watson:     </th> <td>   0.058</td>\n",
       "</tr>\n",
       "<tr>\n",
       "  <th>Prob(Omnibus):</th> <td> 0.962</td> <th>  Jarque-Bera (JB):  </th> <td>   0.123</td>\n",
       "</tr>\n",
       "<tr>\n",
       "  <th>Skew:</th>          <td> 0.080</td> <th>  Prob(JB):          </th> <td>   0.940</td>\n",
       "</tr>\n",
       "<tr>\n",
       "  <th>Kurtosis:</th>      <td> 2.817</td> <th>  Cond. No.          </th> <td>    1.00</td>\n",
       "</tr>\n",
       "</table><br/><br/>Notes:<br/>[1] Standard Errors assume that the covariance matrix of the errors is correctly specified."
      ],
      "text/plain": [
       "<class 'statsmodels.iolib.summary.Summary'>\n",
       "\"\"\"\n",
       "                            OLS Regression Results                            \n",
       "==============================================================================\n",
       "Dep. Variable:                 Profit   R-squared:                       0.014\n",
       "Model:                            OLS   Adj. R-squared:                 -0.007\n",
       "Method:                 Least Squares   F-statistic:                    0.6575\n",
       "Date:                Thu, 10 Feb 2022   Prob (F-statistic):              0.421\n",
       "Time:                        22:29:45   Log-Likelihood:                -70.607\n",
       "No. Observations:                  50   AIC:                             145.2\n",
       "Df Residuals:                      48   BIC:                             149.0\n",
       "Df Model:                           1                                         \n",
       "Covariance Type:            nonrobust                                         \n",
       "==============================================================================\n",
       "                 coef    std err          t      P>|t|      [0.025      0.975]\n",
       "------------------------------------------------------------------------------\n",
       "Intercept  -5.204e-16      0.143  -3.63e-15      1.000      -0.288       0.288\n",
       "S_flo          0.1162      0.143      0.811      0.421      -0.172       0.404\n",
       "==============================================================================\n",
       "Omnibus:                        0.077   Durbin-Watson:                   0.058\n",
       "Prob(Omnibus):                  0.962   Jarque-Bera (JB):                0.123\n",
       "Skew:                           0.080   Prob(JB):                        0.940\n",
       "Kurtosis:                       2.817   Cond. No.                         1.00\n",
       "==============================================================================\n",
       "\n",
       "Notes:\n",
       "[1] Standard Errors assume that the covariance matrix of the errors is correctly specified.\n",
       "\"\"\""
      ]
     },
     "execution_count": 36,
     "metadata": {},
     "output_type": "execute_result"
    }
   ],
   "source": [
    "model_sf.summary()"
   ]
  },
  {
   "cell_type": "markdown",
   "id": "dd598688",
   "metadata": {},
   "source": [
    "### \n",
    "we can see the p value is 0.421 which is more than 0.05 and correlation is 0.12 so we can say that the profit is not dependent of state florida."
   ]
  },
  {
   "cell_type": "code",
   "execution_count": 37,
   "id": "6602c68b",
   "metadata": {
    "ExecuteTime": {
     "end_time": "2022-02-11T03:30:11.604660Z",
     "start_time": "2022-02-11T03:30:11.582719Z"
    }
   },
   "outputs": [],
   "source": [
    "#Profit and State New York\n",
    "model_sny = smf.ols('Profit~S_NY',data=startup_std).fit()"
   ]
  },
  {
   "cell_type": "code",
   "execution_count": 38,
   "id": "dba86f1c",
   "metadata": {
    "ExecuteTime": {
     "end_time": "2022-02-11T03:30:17.016065Z",
     "start_time": "2022-02-11T03:30:17.004096Z"
    }
   },
   "outputs": [
    {
     "data": {
      "text/html": [
       "<table class=\"simpletable\">\n",
       "<caption>OLS Regression Results</caption>\n",
       "<tr>\n",
       "  <th>Dep. Variable:</th>         <td>Profit</td>      <th>  R-squared:         </th> <td>   0.001</td>\n",
       "</tr>\n",
       "<tr>\n",
       "  <th>Model:</th>                   <td>OLS</td>       <th>  Adj. R-squared:    </th> <td>  -0.020</td>\n",
       "</tr>\n",
       "<tr>\n",
       "  <th>Method:</th>             <td>Least Squares</td>  <th>  F-statistic:       </th> <td> 0.04727</td>\n",
       "</tr>\n",
       "<tr>\n",
       "  <th>Date:</th>             <td>Thu, 10 Feb 2022</td> <th>  Prob (F-statistic):</th>  <td> 0.829</td> \n",
       "</tr>\n",
       "<tr>\n",
       "  <th>Time:</th>                 <td>22:30:17</td>     <th>  Log-Likelihood:    </th> <td> -70.922</td>\n",
       "</tr>\n",
       "<tr>\n",
       "  <th>No. Observations:</th>      <td>    50</td>      <th>  AIC:               </th> <td>   145.8</td>\n",
       "</tr>\n",
       "<tr>\n",
       "  <th>Df Residuals:</th>          <td>    48</td>      <th>  BIC:               </th> <td>   149.7</td>\n",
       "</tr>\n",
       "<tr>\n",
       "  <th>Df Model:</th>              <td>     1</td>      <th>                     </th>     <td> </td>   \n",
       "</tr>\n",
       "<tr>\n",
       "  <th>Covariance Type:</th>      <td>nonrobust</td>    <th>                     </th>     <td> </td>   \n",
       "</tr>\n",
       "</table>\n",
       "<table class=\"simpletable\">\n",
       "<tr>\n",
       "      <td></td>         <th>coef</th>     <th>std err</th>      <th>t</th>      <th>P>|t|</th>  <th>[0.025</th>    <th>0.975]</th>  \n",
       "</tr>\n",
       "<tr>\n",
       "  <th>Intercept</th> <td>-5.204e-16</td> <td>    0.144</td> <td>-3.61e-15</td> <td> 1.000</td> <td>   -0.290</td> <td>    0.290</td>\n",
       "</tr>\n",
       "<tr>\n",
       "  <th>S_NY</th>      <td>    0.0314</td> <td>    0.144</td> <td>    0.217</td> <td> 0.829</td> <td>   -0.259</td> <td>    0.321</td>\n",
       "</tr>\n",
       "</table>\n",
       "<table class=\"simpletable\">\n",
       "<tr>\n",
       "  <th>Omnibus:</th>       <td> 0.011</td> <th>  Durbin-Watson:     </th> <td>   0.021</td>\n",
       "</tr>\n",
       "<tr>\n",
       "  <th>Prob(Omnibus):</th> <td> 0.994</td> <th>  Jarque-Bera (JB):  </th> <td>   0.082</td>\n",
       "</tr>\n",
       "<tr>\n",
       "  <th>Skew:</th>          <td> 0.022</td> <th>  Prob(JB):          </th> <td>   0.960</td>\n",
       "</tr>\n",
       "<tr>\n",
       "  <th>Kurtosis:</th>      <td> 2.807</td> <th>  Cond. No.          </th> <td>    1.00</td>\n",
       "</tr>\n",
       "</table><br/><br/>Notes:<br/>[1] Standard Errors assume that the covariance matrix of the errors is correctly specified."
      ],
      "text/plain": [
       "<class 'statsmodels.iolib.summary.Summary'>\n",
       "\"\"\"\n",
       "                            OLS Regression Results                            \n",
       "==============================================================================\n",
       "Dep. Variable:                 Profit   R-squared:                       0.001\n",
       "Model:                            OLS   Adj. R-squared:                 -0.020\n",
       "Method:                 Least Squares   F-statistic:                   0.04727\n",
       "Date:                Thu, 10 Feb 2022   Prob (F-statistic):              0.829\n",
       "Time:                        22:30:17   Log-Likelihood:                -70.922\n",
       "No. Observations:                  50   AIC:                             145.8\n",
       "Df Residuals:                      48   BIC:                             149.7\n",
       "Df Model:                           1                                         \n",
       "Covariance Type:            nonrobust                                         \n",
       "==============================================================================\n",
       "                 coef    std err          t      P>|t|      [0.025      0.975]\n",
       "------------------------------------------------------------------------------\n",
       "Intercept  -5.204e-16      0.144  -3.61e-15      1.000      -0.290       0.290\n",
       "S_NY           0.0314      0.144      0.217      0.829      -0.259       0.321\n",
       "==============================================================================\n",
       "Omnibus:                        0.011   Durbin-Watson:                   0.021\n",
       "Prob(Omnibus):                  0.994   Jarque-Bera (JB):                0.082\n",
       "Skew:                           0.022   Prob(JB):                        0.960\n",
       "Kurtosis:                       2.807   Cond. No.                         1.00\n",
       "==============================================================================\n",
       "\n",
       "Notes:\n",
       "[1] Standard Errors assume that the covariance matrix of the errors is correctly specified.\n",
       "\"\"\""
      ]
     },
     "execution_count": 38,
     "metadata": {},
     "output_type": "execute_result"
    }
   ],
   "source": [
    "model_sny.summary()"
   ]
  },
  {
   "cell_type": "markdown",
   "id": "5eb048a7",
   "metadata": {},
   "source": [
    "### \n",
    "The p value of NY is 0.829 which is more than 0.05 and the correlation is 0.031 so we can also conclude that Profit is not dependent on State New York variable."
   ]
  },
  {
   "cell_type": "markdown",
   "id": "33316644",
   "metadata": {},
   "source": [
    "## VIF\n",
    "Calculating VIF to check Collinearity"
   ]
  },
  {
   "cell_type": "code",
   "execution_count": 39,
   "id": "ce20d927",
   "metadata": {
    "ExecuteTime": {
     "end_time": "2022-02-11T03:30:57.474435Z",
     "start_time": "2022-02-11T03:30:57.468451Z"
    }
   },
   "outputs": [
    {
     "data": {
      "text/plain": [
       "Index(['RD', 'Administration', 'Marketing', 'Profit', 'S_Cali', 'S_flo',\n",
       "       'S_NY'],\n",
       "      dtype='object')"
      ]
     },
     "execution_count": 39,
     "metadata": {},
     "output_type": "execute_result"
    }
   ],
   "source": [
    "startup_std.columns"
   ]
  },
  {
   "cell_type": "code",
   "execution_count": 40,
   "id": "79d44a1c",
   "metadata": {
    "ExecuteTime": {
     "end_time": "2022-02-11T03:31:05.307482Z",
     "start_time": "2022-02-11T03:31:05.294542Z"
    }
   },
   "outputs": [
    {
     "name": "stdout",
     "output_type": "stream",
     "text": [
      "0.5992804554110677\n",
      "2.4955109215494438\n"
     ]
    }
   ],
   "source": [
    "#calculate Rsquared and VIF for RD\n",
    "rsd_rd = smf.ols('RD~Administration+Marketing+S_Cali+S_flo+S_NY',data=startup_std).fit().rsquared\n",
    "vif_rd = 1/(1-rsd_rd)\n",
    "\n",
    "#Print\n",
    "print(rsd_rd)\n",
    "print(vif_rd)"
   ]
  },
  {
   "cell_type": "code",
   "execution_count": 41,
   "id": "b926ba02",
   "metadata": {
    "ExecuteTime": {
     "end_time": "2022-02-11T03:31:15.963772Z",
     "start_time": "2022-02-11T03:31:15.951803Z"
    }
   },
   "outputs": [
    {
     "name": "stdout",
     "output_type": "stream",
     "text": [
      "0.15093494226942217\n",
      "1.177766050899384\n"
     ]
    }
   ],
   "source": [
    "#calculate Rsquared and VIF for Administration\n",
    "rsd_ad = smf.ols('Administration~RD+Marketing+S_Cali+S_flo+S_NY',data=startup_std).fit().rsquared\n",
    "vif_ad = 1/(1-rsd_ad)\n",
    "\n",
    "#Print\n",
    "print(rsd_ad)\n",
    "print(vif_ad)"
   ]
  },
  {
   "cell_type": "code",
   "execution_count": 42,
   "id": "2174186f",
   "metadata": {
    "ExecuteTime": {
     "end_time": "2022-02-11T03:31:24.917003Z",
     "start_time": "2022-02-11T03:31:24.902055Z"
    }
   },
   "outputs": [
    {
     "name": "stdout",
     "output_type": "stream",
     "text": [
      "0.5862291699815613\n",
      "2.416796756686394\n"
     ]
    }
   ],
   "source": [
    "#calculate Rsquared and VIF for Marketing\n",
    "rsd_mk = smf.ols('Marketing~RD+Administration+S_Cali+S_flo+S_NY',data=startup_std).fit().rsquared\n",
    "vif_mk = 1/(1-rsd_mk)\n",
    "\n",
    "#Print\n",
    "print(rsd_mk)\n",
    "print(vif_mk)"
   ]
  },
  {
   "cell_type": "code",
   "execution_count": 43,
   "id": "37a177e2",
   "metadata": {
    "ExecuteTime": {
     "end_time": "2022-02-11T03:31:33.830427Z",
     "start_time": "2022-02-11T03:31:33.809485Z"
    }
   },
   "outputs": [
    {
     "name": "stdout",
     "output_type": "stream",
     "text": [
      "1.0\n",
      "inf\n"
     ]
    },
    {
     "name": "stderr",
     "output_type": "stream",
     "text": [
      "<ipython-input-43-6e46e3ef6d35>:3: RuntimeWarning: divide by zero encountered in double_scalars\n",
      "  vif_ca = 1/(1-rsd_ca)\n"
     ]
    }
   ],
   "source": [
    "#calculate Rsquared and VIF for State Califonia\n",
    "rsd_ca = smf.ols('S_Cali~RD+Administration+Marketing+S_flo+S_NY',data=startup_std).fit().rsquared\n",
    "vif_ca = 1/(1-rsd_ca)\n",
    "\n",
    "#Print\n",
    "print(rsd_ca)\n",
    "print(vif_ca)"
   ]
  },
  {
   "cell_type": "code",
   "execution_count": 44,
   "id": "2cefbc83",
   "metadata": {
    "ExecuteTime": {
     "end_time": "2022-02-11T03:31:43.345752Z",
     "start_time": "2022-02-11T03:31:43.319822Z"
    }
   },
   "outputs": [
    {
     "name": "stdout",
     "output_type": "stream",
     "text": [
      "1.0\n",
      "inf\n"
     ]
    },
    {
     "name": "stderr",
     "output_type": "stream",
     "text": [
      "<ipython-input-44-1f59795017b9>:3: RuntimeWarning: divide by zero encountered in double_scalars\n",
      "  vif_fl = 1/(1-rsd_fl)\n"
     ]
    }
   ],
   "source": [
    "#calculate Rsquared and VIF for State Florida\n",
    "rsd_fl = smf.ols('S_flo~RD+Administration+Marketing+S_Cali+S_NY',data=startup_std).fit().rsquared\n",
    "vif_fl = 1/(1-rsd_fl)\n",
    "\n",
    "#Print\n",
    "print(rsd_fl)\n",
    "print(vif_fl)"
   ]
  },
  {
   "cell_type": "code",
   "execution_count": 45,
   "id": "9d873c41",
   "metadata": {
    "ExecuteTime": {
     "end_time": "2022-02-11T03:31:52.542984Z",
     "start_time": "2022-02-11T03:31:52.517029Z"
    }
   },
   "outputs": [
    {
     "name": "stdout",
     "output_type": "stream",
     "text": [
      "1.0\n",
      "inf\n"
     ]
    },
    {
     "name": "stderr",
     "output_type": "stream",
     "text": [
      "<ipython-input-45-60c8652d4b44>:3: RuntimeWarning: divide by zero encountered in double_scalars\n",
      "  vif_ny = 1/(1-rsd_ny)\n"
     ]
    }
   ],
   "source": [
    "#calculate Rsquared and VIF for State Florida\n",
    "rsd_ny = smf.ols('S_NY~RD+Administration+Marketing+S_Cali+S_flo',data=startup_std).fit().rsquared\n",
    "vif_ny = 1/(1-rsd_ny)\n",
    "\n",
    "#Print\n",
    "print(rsd_ny)\n",
    "print(vif_ny)"
   ]
  },
  {
   "cell_type": "code",
   "execution_count": 46,
   "id": "aa12c1f3",
   "metadata": {
    "ExecuteTime": {
     "end_time": "2022-02-11T03:32:00.625677Z",
     "start_time": "2022-02-11T03:32:00.603749Z"
    }
   },
   "outputs": [
    {
     "data": {
      "text/html": [
       "<div>\n",
       "<style scoped>\n",
       "    .dataframe tbody tr th:only-of-type {\n",
       "        vertical-align: middle;\n",
       "    }\n",
       "\n",
       "    .dataframe tbody tr th {\n",
       "        vertical-align: top;\n",
       "    }\n",
       "\n",
       "    .dataframe thead th {\n",
       "        text-align: right;\n",
       "    }\n",
       "</style>\n",
       "<table border=\"1\" class=\"dataframe\">\n",
       "  <thead>\n",
       "    <tr style=\"text-align: right;\">\n",
       "      <th></th>\n",
       "      <th>Feature</th>\n",
       "      <th>Rsquared</th>\n",
       "      <th>VIF</th>\n",
       "    </tr>\n",
       "  </thead>\n",
       "  <tbody>\n",
       "    <tr>\n",
       "      <th>0</th>\n",
       "      <td>RD</td>\n",
       "      <td>0.599280</td>\n",
       "      <td>2.495511</td>\n",
       "    </tr>\n",
       "    <tr>\n",
       "      <th>1</th>\n",
       "      <td>Administration</td>\n",
       "      <td>0.150935</td>\n",
       "      <td>1.177766</td>\n",
       "    </tr>\n",
       "    <tr>\n",
       "      <th>2</th>\n",
       "      <td>Marketing</td>\n",
       "      <td>0.586229</td>\n",
       "      <td>2.416797</td>\n",
       "    </tr>\n",
       "    <tr>\n",
       "      <th>3</th>\n",
       "      <td>S_Cali</td>\n",
       "      <td>1.000000</td>\n",
       "      <td>inf</td>\n",
       "    </tr>\n",
       "    <tr>\n",
       "      <th>4</th>\n",
       "      <td>S_flo</td>\n",
       "      <td>1.000000</td>\n",
       "      <td>inf</td>\n",
       "    </tr>\n",
       "    <tr>\n",
       "      <th>5</th>\n",
       "      <td>S_NY</td>\n",
       "      <td>1.000000</td>\n",
       "      <td>inf</td>\n",
       "    </tr>\n",
       "  </tbody>\n",
       "</table>\n",
       "</div>"
      ],
      "text/plain": [
       "          Feature  Rsquared       VIF\n",
       "0              RD  0.599280  2.495511\n",
       "1  Administration  0.150935  1.177766\n",
       "2       Marketing  0.586229  2.416797\n",
       "3          S_Cali  1.000000       inf\n",
       "4           S_flo  1.000000       inf\n",
       "5            S_NY  1.000000       inf"
      ]
     },
     "execution_count": 46,
     "metadata": {},
     "output_type": "execute_result"
    }
   ],
   "source": [
    "#Creating Data Frame for the above Rsquared and VIF values \n",
    "\n",
    "data = {'Feature': ['RD', 'Administration', 'Marketing', 'S_Cali', 'S_flo','S_NY'], \n",
    "        'Rsquared':[rsd_rd,rsd_ad,rsd_mk,rsd_ca,rsd_fl,rsd_ny],\n",
    "       'VIF':[vif_rd,vif_ad,vif_mk,vif_ca,vif_fl,vif_ny]}\n",
    "rs_vif = pd.DataFrame(data)\n",
    "rs_vif"
   ]
  },
  {
   "cell_type": "markdown",
   "id": "71b069b9",
   "metadata": {},
   "source": [
    "### \n",
    "Here we can see that the infinate value for State variable so we can confirm that collinearlity does not exist in them.\n",
    "\n",
    "\n",
    "\n",
    "from the above table of VIF values we can say that States and Administration does not have significient variables for predicting the Profit Values. Hence We can build our model based on R&D Spend and Marketing.\n",
    "\n"
   ]
  },
  {
   "cell_type": "code",
   "execution_count": 47,
   "id": "14679047",
   "metadata": {
    "ExecuteTime": {
     "end_time": "2022-02-11T03:32:38.154475Z",
     "start_time": "2022-02-11T03:32:38.134529Z"
    }
   },
   "outputs": [],
   "source": [
    "model_prm = smf.ols('Profit~RD+Marketing',data=startup_std).fit()"
   ]
  },
  {
   "cell_type": "code",
   "execution_count": 48,
   "id": "fa063442",
   "metadata": {
    "ExecuteTime": {
     "end_time": "2022-02-11T03:32:43.677855Z",
     "start_time": "2022-02-11T03:32:43.664889Z"
    }
   },
   "outputs": [
    {
     "data": {
      "text/html": [
       "<table class=\"simpletable\">\n",
       "<caption>OLS Regression Results</caption>\n",
       "<tr>\n",
       "  <th>Dep. Variable:</th>         <td>Profit</td>      <th>  R-squared:         </th> <td>   0.950</td>\n",
       "</tr>\n",
       "<tr>\n",
       "  <th>Model:</th>                   <td>OLS</td>       <th>  Adj. R-squared:    </th> <td>   0.948</td>\n",
       "</tr>\n",
       "<tr>\n",
       "  <th>Method:</th>             <td>Least Squares</td>  <th>  F-statistic:       </th> <td>   450.8</td>\n",
       "</tr>\n",
       "<tr>\n",
       "  <th>Date:</th>             <td>Thu, 10 Feb 2022</td> <th>  Prob (F-statistic):</th> <td>2.16e-31</td>\n",
       "</tr>\n",
       "<tr>\n",
       "  <th>Time:</th>                 <td>22:32:43</td>     <th>  Log-Likelihood:    </th> <td>  4.1726</td>\n",
       "</tr>\n",
       "<tr>\n",
       "  <th>No. Observations:</th>      <td>    50</td>      <th>  AIC:               </th> <td>  -2.345</td>\n",
       "</tr>\n",
       "<tr>\n",
       "  <th>Df Residuals:</th>          <td>    47</td>      <th>  BIC:               </th> <td>   3.391</td>\n",
       "</tr>\n",
       "<tr>\n",
       "  <th>Df Model:</th>              <td>     2</td>      <th>                     </th>     <td> </td>   \n",
       "</tr>\n",
       "<tr>\n",
       "  <th>Covariance Type:</th>      <td>nonrobust</td>    <th>                     </th>     <td> </td>   \n",
       "</tr>\n",
       "</table>\n",
       "<table class=\"simpletable\">\n",
       "<tr>\n",
       "      <td></td>         <th>coef</th>     <th>std err</th>      <th>t</th>      <th>P>|t|</th>  <th>[0.025</th>    <th>0.975]</th>  \n",
       "</tr>\n",
       "<tr>\n",
       "  <th>Intercept</th> <td>-5.204e-16</td> <td>    0.032</td> <td> -1.6e-14</td> <td> 1.000</td> <td>   -0.065</td> <td>    0.065</td>\n",
       "</tr>\n",
       "<tr>\n",
       "  <th>RD</th>        <td>    0.9072</td> <td>    0.047</td> <td>   19.266</td> <td> 0.000</td> <td>    0.812</td> <td>    1.002</td>\n",
       "</tr>\n",
       "<tr>\n",
       "  <th>Marketing</th> <td>    0.0907</td> <td>    0.047</td> <td>    1.927</td> <td> 0.060</td> <td>   -0.004</td> <td>    0.185</td>\n",
       "</tr>\n",
       "</table>\n",
       "<table class=\"simpletable\">\n",
       "<tr>\n",
       "  <th>Omnibus:</th>       <td>14.677</td> <th>  Durbin-Watson:     </th> <td>   1.257</td>\n",
       "</tr>\n",
       "<tr>\n",
       "  <th>Prob(Omnibus):</th> <td> 0.001</td> <th>  Jarque-Bera (JB):  </th> <td>  21.161</td>\n",
       "</tr>\n",
       "<tr>\n",
       "  <th>Skew:</th>          <td>-0.939</td> <th>  Prob(JB):          </th> <td>2.54e-05</td>\n",
       "</tr>\n",
       "<tr>\n",
       "  <th>Kurtosis:</th>      <td> 5.575</td> <th>  Cond. No.          </th> <td>    2.50</td>\n",
       "</tr>\n",
       "</table><br/><br/>Notes:<br/>[1] Standard Errors assume that the covariance matrix of the errors is correctly specified."
      ],
      "text/plain": [
       "<class 'statsmodels.iolib.summary.Summary'>\n",
       "\"\"\"\n",
       "                            OLS Regression Results                            \n",
       "==============================================================================\n",
       "Dep. Variable:                 Profit   R-squared:                       0.950\n",
       "Model:                            OLS   Adj. R-squared:                  0.948\n",
       "Method:                 Least Squares   F-statistic:                     450.8\n",
       "Date:                Thu, 10 Feb 2022   Prob (F-statistic):           2.16e-31\n",
       "Time:                        22:32:43   Log-Likelihood:                 4.1726\n",
       "No. Observations:                  50   AIC:                            -2.345\n",
       "Df Residuals:                      47   BIC:                             3.391\n",
       "Df Model:                           2                                         \n",
       "Covariance Type:            nonrobust                                         \n",
       "==============================================================================\n",
       "                 coef    std err          t      P>|t|      [0.025      0.975]\n",
       "------------------------------------------------------------------------------\n",
       "Intercept  -5.204e-16      0.032   -1.6e-14      1.000      -0.065       0.065\n",
       "RD             0.9072      0.047     19.266      0.000       0.812       1.002\n",
       "Marketing      0.0907      0.047      1.927      0.060      -0.004       0.185\n",
       "==============================================================================\n",
       "Omnibus:                       14.677   Durbin-Watson:                   1.257\n",
       "Prob(Omnibus):                  0.001   Jarque-Bera (JB):               21.161\n",
       "Skew:                          -0.939   Prob(JB):                     2.54e-05\n",
       "Kurtosis:                       5.575   Cond. No.                         2.50\n",
       "==============================================================================\n",
       "\n",
       "Notes:\n",
       "[1] Standard Errors assume that the covariance matrix of the errors is correctly specified.\n",
       "\"\"\""
      ]
     },
     "execution_count": 48,
     "metadata": {},
     "output_type": "execute_result"
    }
   ],
   "source": [
    "model_prm.summary()"
   ]
  },
  {
   "cell_type": "code",
   "execution_count": 49,
   "id": "2282a1f0",
   "metadata": {
    "ExecuteTime": {
     "end_time": "2022-02-11T03:33:54.379538Z",
     "start_time": "2022-02-11T03:33:54.371560Z"
    }
   },
   "outputs": [
    {
     "name": "stdout",
     "output_type": "stream",
     "text": [
      "0.5591535746115515 ~~~ 104.94091802371327\n"
     ]
    }
   ],
   "source": [
    "#Marketing Rsquared and AIC\n",
    "print(model_pm.rsquared,\"~~~\",model_pm.aic)"
   ]
  },
  {
   "cell_type": "code",
   "execution_count": 50,
   "id": "791bbbcb",
   "metadata": {
    "ExecuteTime": {
     "end_time": "2022-02-11T03:34:01.022901Z",
     "start_time": "2022-02-11T03:34:01.019907Z"
    }
   },
   "outputs": [
    {
     "name": "stdout",
     "output_type": "stream",
     "text": [
      "0.9465353160804392 ~~~ -0.5428445147422991\n"
     ]
    }
   ],
   "source": [
    "#R&D Spend Rsquared and AIC\n",
    "print(model_pr.rsquared,\"~~~\",model_pr.aic)"
   ]
  },
  {
   "cell_type": "markdown",
   "id": "8dd4294e",
   "metadata": {},
   "source": [
    "### when we compare both the model in rsquared and aic we can see that Rsquared model is more and AIC is less in R&D spend variable so it is enough to predict the Profit value from R&D Spend."
   ]
  },
  {
   "cell_type": "code",
   "execution_count": 51,
   "id": "6a675b29",
   "metadata": {
    "ExecuteTime": {
     "end_time": "2022-02-11T03:34:25.654372Z",
     "start_time": "2022-02-11T03:34:25.641434Z"
    }
   },
   "outputs": [
    {
     "name": "stdout",
     "output_type": "stream",
     "text": [
      "0.9465353160804392 ~~~ 0.9454214684987816\n"
     ]
    }
   ],
   "source": [
    "print(model_pr.rsquared,\"~~~\",model_pr.rsquared_adj)"
   ]
  },
  {
   "cell_type": "markdown",
   "id": "02588d66",
   "metadata": {},
   "source": [
    "## Model Validation"
   ]
  },
  {
   "cell_type": "code",
   "execution_count": 52,
   "id": "771d4952",
   "metadata": {
    "ExecuteTime": {
     "end_time": "2022-02-11T03:34:43.369879Z",
     "start_time": "2022-02-11T03:34:42.989900Z"
    }
   },
   "outputs": [],
   "source": [
    "#import module statsmodels.api\n",
    "import statsmodels.api as sm"
   ]
  },
  {
   "cell_type": "code",
   "execution_count": 53,
   "id": "e9d0b347",
   "metadata": {
    "ExecuteTime": {
     "end_time": "2022-02-11T03:34:53.039258Z",
     "start_time": "2022-02-11T03:34:52.916423Z"
    }
   },
   "outputs": [
    {
     "data": {
      "image/png": "[encoded data removed]",
      "text/plain": [
       "<Figure size 432x288 with 1 Axes>"
      ]
     },
     "metadata": {
      "needs_background": "light"
     },
     "output_type": "display_data"
    }
   ],
   "source": [
    "#QQ plot to check normality errors\n",
    "qqplot = sm.qqplot(model_pr.resid,line='q')\n",
    "plt.show()"
   ]
  },
  {
   "cell_type": "code",
   "execution_count": 54,
   "id": "37a509d9",
   "metadata": {
    "ExecuteTime": {
     "end_time": "2022-02-11T03:35:00.439097Z",
     "start_time": "2022-02-11T03:35:00.428945Z"
    }
   },
   "outputs": [
    {
     "data": {
      "text/plain": [
       "[array([49], dtype=int64)]"
      ]
     },
     "execution_count": 54,
     "metadata": {},
     "output_type": "execute_result"
    }
   ],
   "source": [
    "#check the value <= 0.8\n",
    "list(np.where(model_pr.resid<-0.8))"
   ]
  },
  {
   "cell_type": "markdown",
   "id": "232c1e8d",
   "metadata": {},
   "source": [
    "### \n",
    "There is one point which is a bit far from the straight line which is 49 observation."
   ]
  },
  {
   "cell_type": "markdown",
   "id": "416f702c",
   "metadata": {},
   "source": [
    "## Residual and Regressors plot for checking if there is linear relation or not and also ckeck no error varience."
   ]
  },
  {
   "cell_type": "code",
   "execution_count": 55,
   "id": "d64f1cf0",
   "metadata": {
    "ExecuteTime": {
     "end_time": "2022-02-11T03:35:46.126083Z",
     "start_time": "2022-02-11T03:35:46.114115Z"
    }
   },
   "outputs": [],
   "source": [
    "#defing statdard values\n",
    "def get_std_values(vals):\n",
    "    return (vals - vals.mean())/vals.std()"
   ]
  },
  {
   "cell_type": "code",
   "execution_count": 56,
   "id": "acf08719",
   "metadata": {
    "ExecuteTime": {
     "end_time": "2022-02-11T03:35:51.628822Z",
     "start_time": "2022-02-11T03:35:51.495127Z"
    }
   },
   "outputs": [
    {
     "data": {
      "image/png": "[encoded data removed]",
      "text/plain": [
       "<Figure size 432x288 with 1 Axes>"
      ]
     },
     "metadata": {
      "needs_background": "light"
     },
     "output_type": "display_data"
    }
   ],
   "source": [
    "#Residual plot\n",
    "plt.scatter(get_std_values(model_pr.fittedvalues),get_std_values(model_pr.resid))\n",
    "\n",
    "plt.xlabel('standard fitted values')\n",
    "plt.ylabel('standard residual values')\n",
    "plt.show()"
   ]
  },
  {
   "cell_type": "markdown",
   "id": "af6fbdfb",
   "metadata": {},
   "source": [
    "## \n",
    "There is no pattern in the residual plot, so we can say there is a linear relation and no error varience"
   ]
  },
  {
   "cell_type": "code",
   "execution_count": 57,
   "id": "45579ddb",
   "metadata": {
    "ExecuteTime": {
     "end_time": "2022-02-11T03:36:12.345313Z",
     "start_time": "2022-02-11T03:36:11.904652Z"
    }
   },
   "outputs": [
    {
     "data": {
      "image/png": "[encoded data removed]",
      "text/plain": [
       "<Figure size 864x576 with 4 Axes>"
      ]
     },
     "metadata": {
      "needs_background": "light"
     },
     "output_type": "display_data"
    }
   ],
   "source": [
    "#Regressor Plot\n",
    "fig = plt.figure(figsize=(12,8))\n",
    "fig = sm.graphics.plot_regress_exog(model_pr, \"RD\", fig=fig)\n",
    "plt.show()"
   ]
  },
  {
   "cell_type": "markdown",
   "id": "3b0db428",
   "metadata": {},
   "source": [
    "## \n",
    "There is no pattern in the Residual vs R & D Spend plot, so we can say there is a linear relation and no error variance"
   ]
  },
  {
   "cell_type": "markdown",
   "id": "97ad75fd",
   "metadata": {},
   "source": [
    "## Model Detection Diagonstics\n",
    "Detecting influencers or outliers using Cook's distance\n",
    "\n"
   ]
  },
  {
   "cell_type": "code",
   "execution_count": 58,
   "id": "f7128dd2",
   "metadata": {
    "ExecuteTime": {
     "end_time": "2022-02-11T03:37:13.816749Z",
     "start_time": "2022-02-11T03:37:13.806775Z"
    }
   },
   "outputs": [],
   "source": [
    "model_influence =  model_pr.get_influence()\n",
    "(c, _) = model_influence.cooks_distance"
   ]
  },
  {
   "cell_type": "code",
   "execution_count": 59,
   "id": "abfe6bac",
   "metadata": {
    "ExecuteTime": {
     "end_time": "2022-02-11T03:37:21.348701Z",
     "start_time": "2022-02-11T03:37:21.211707Z"
    }
   },
   "outputs": [
    {
     "data": {
      "image/png": "[encoded data removed]",
      "text/plain": [
       "<Figure size 1440x504 with 1 Axes>"
      ]
     },
     "metadata": {
      "needs_background": "light"
     },
     "output_type": "display_data"
    }
   ],
   "source": [
    "#Plot the influencers values using stem plot\n",
    "fig = plt.subplots(figsize=(20, 7)) \n",
    "plt.stem(np.arange(len(startup_std)), np.round(c, 3)) \n",
    "plt.xlabel('Row index') \n",
    "plt.ylabel('Cooks Distance') \n",
    "plt.show()"
   ]
  },
  {
   "cell_type": "code",
   "execution_count": 60,
   "id": "8093295d",
   "metadata": {
    "ExecuteTime": {
     "end_time": "2022-02-11T03:37:27.965563Z",
     "start_time": "2022-02-11T03:37:27.955589Z"
    }
   },
   "outputs": [
    {
     "data": {
      "text/plain": [
       "(49, 0.562061025926428)"
      ]
     },
     "execution_count": 60,
     "metadata": {},
     "output_type": "execute_result"
    }
   ],
   "source": [
    "(np.argmax(c),np.max(c))"
   ]
  },
  {
   "cell_type": "markdown",
   "id": "ddc8fb31",
   "metadata": {},
   "source": [
    "## \n",
    "We can see that the 49th observation is an Influencer point and has more distance than other data points. We will delete this data point to further increase our accuracy"
   ]
  },
  {
   "cell_type": "code",
   "execution_count": 61,
   "id": "0e679aa5",
   "metadata": {
    "ExecuteTime": {
     "end_time": "2022-02-11T03:38:03.888846Z",
     "start_time": "2022-02-11T03:38:03.879798Z"
    }
   },
   "outputs": [],
   "source": [
    "#deleting the data point for imporving the model\n",
    "startup = startup_std.drop(startup_std.index[[49]],axis=0).reset_index()"
   ]
  },
  {
   "cell_type": "code",
   "execution_count": 62,
   "id": "f84c5b1e",
   "metadata": {
    "ExecuteTime": {
     "end_time": "2022-02-11T03:38:10.395154Z",
     "start_time": "2022-02-11T03:38:10.389169Z"
    }
   },
   "outputs": [
    {
     "data": {
      "text/plain": [
       "(49, 8)"
      ]
     },
     "execution_count": 62,
     "metadata": {},
     "output_type": "execute_result"
    }
   ],
   "source": [
    "startup.shape"
   ]
  },
  {
   "cell_type": "code",
   "execution_count": 63,
   "id": "76abe24a",
   "metadata": {
    "ExecuteTime": {
     "end_time": "2022-02-11T03:38:15.821152Z",
     "start_time": "2022-02-11T03:38:15.800206Z"
    }
   },
   "outputs": [
    {
     "data": {
      "text/html": [
       "<div>\n",
       "<style scoped>\n",
       "    .dataframe tbody tr th:only-of-type {\n",
       "        vertical-align: middle;\n",
       "    }\n",
       "\n",
       "    .dataframe tbody tr th {\n",
       "        vertical-align: top;\n",
       "    }\n",
       "\n",
       "    .dataframe thead th {\n",
       "        text-align: right;\n",
       "    }\n",
       "</style>\n",
       "<table border=\"1\" class=\"dataframe\">\n",
       "  <thead>\n",
       "    <tr style=\"text-align: right;\">\n",
       "      <th></th>\n",
       "      <th>index</th>\n",
       "      <th>RD</th>\n",
       "      <th>Administration</th>\n",
       "      <th>Marketing</th>\n",
       "      <th>Profit</th>\n",
       "      <th>S_Cali</th>\n",
       "      <th>S_flo</th>\n",
       "      <th>S_NY</th>\n",
       "    </tr>\n",
       "  </thead>\n",
       "  <tbody>\n",
       "    <tr>\n",
       "      <th>0</th>\n",
       "      <td>0</td>\n",
       "      <td>2.016411</td>\n",
       "      <td>0.560753</td>\n",
       "      <td>2.153943</td>\n",
       "      <td>2.011203</td>\n",
       "      <td>-0.717741</td>\n",
       "      <td>-0.685994</td>\n",
       "      <td>1.393261</td>\n",
       "    </tr>\n",
       "    <tr>\n",
       "      <th>1</th>\n",
       "      <td>1</td>\n",
       "      <td>1.955860</td>\n",
       "      <td>1.082807</td>\n",
       "      <td>1.923600</td>\n",
       "      <td>1.999430</td>\n",
       "      <td>1.393261</td>\n",
       "      <td>-0.685994</td>\n",
       "      <td>-0.717741</td>\n",
       "    </tr>\n",
       "    <tr>\n",
       "      <th>2</th>\n",
       "      <td>2</td>\n",
       "      <td>1.754364</td>\n",
       "      <td>-0.728257</td>\n",
       "      <td>1.626528</td>\n",
       "      <td>1.980842</td>\n",
       "      <td>-0.717741</td>\n",
       "      <td>1.457738</td>\n",
       "      <td>-0.717741</td>\n",
       "    </tr>\n",
       "    <tr>\n",
       "      <th>3</th>\n",
       "      <td>3</td>\n",
       "      <td>1.554784</td>\n",
       "      <td>-0.096365</td>\n",
       "      <td>1.422210</td>\n",
       "      <td>1.776627</td>\n",
       "      <td>-0.717741</td>\n",
       "      <td>-0.685994</td>\n",
       "      <td>1.393261</td>\n",
       "    </tr>\n",
       "    <tr>\n",
       "      <th>4</th>\n",
       "      <td>4</td>\n",
       "      <td>1.504937</td>\n",
       "      <td>-1.079919</td>\n",
       "      <td>1.281528</td>\n",
       "      <td>1.357740</td>\n",
       "      <td>-0.717741</td>\n",
       "      <td>1.457738</td>\n",
       "      <td>-0.717741</td>\n",
       "    </tr>\n",
       "  </tbody>\n",
       "</table>\n",
       "</div>"
      ],
      "text/plain": [
       "   index        RD  Administration  Marketing    Profit    S_Cali     S_flo  \\\n",
       "0      0  2.016411        0.560753   2.153943  2.011203 -0.717741 -0.685994   \n",
       "1      1  1.955860        1.082807   1.923600  1.999430  1.393261 -0.685994   \n",
       "2      2  1.754364       -0.728257   1.626528  1.980842 -0.717741  1.457738   \n",
       "3      3  1.554784       -0.096365   1.422210  1.776627 -0.717741 -0.685994   \n",
       "4      4  1.504937       -1.079919   1.281528  1.357740 -0.717741  1.457738   \n",
       "\n",
       "       S_NY  \n",
       "0  1.393261  \n",
       "1 -0.717741  \n",
       "2 -0.717741  \n",
       "3  1.393261  \n",
       "4 -0.717741  "
      ]
     },
     "execution_count": 63,
     "metadata": {},
     "output_type": "execute_result"
    }
   ],
   "source": [
    "startup.head()"
   ]
  },
  {
   "cell_type": "code",
   "execution_count": 64,
   "id": "c3514bef",
   "metadata": {
    "ExecuteTime": {
     "end_time": "2022-02-11T03:38:23.922071Z",
     "start_time": "2022-02-11T03:38:23.902124Z"
    }
   },
   "outputs": [],
   "source": [
    "#build model \n",
    "final_model = smf.ols('Profit~RD',data=startup).fit()"
   ]
  },
  {
   "cell_type": "code",
   "execution_count": 65,
   "id": "f34ab7e1",
   "metadata": {
    "ExecuteTime": {
     "end_time": "2022-02-11T03:38:29.275302Z",
     "start_time": "2022-02-11T03:38:29.272306Z"
    }
   },
   "outputs": [
    {
     "name": "stdout",
     "output_type": "stream",
     "text": [
      "0.9573395972488337 ~~~~~ 0.9564319291051918\n"
     ]
    }
   ],
   "source": [
    "print(final_model.rsquared,\"~~~~~\",final_model.rsquared_adj)"
   ]
  },
  {
   "cell_type": "markdown",
   "id": "3ddc8aa0",
   "metadata": {},
   "source": [
    "## \n",
    "The adjusted R sqaured value of the model is 0.956. So we can say the accuracy of our model is 95%`"
   ]
  },
  {
   "cell_type": "markdown",
   "id": "0dda9563",
   "metadata": {},
   "source": [
    "## Predicting for new data"
   ]
  },
  {
   "cell_type": "code",
   "execution_count": 66,
   "id": "9174a05b",
   "metadata": {
    "ExecuteTime": {
     "end_time": "2022-02-11T03:50:26.502230Z",
     "start_time": "2022-02-11T03:50:26.496245Z"
    }
   },
   "outputs": [],
   "source": [
    "new_data = pd.DataFrame({'RD':100000},index=[1])"
   ]
  },
  {
   "cell_type": "code",
   "execution_count": 67,
   "id": "5193542e",
   "metadata": {
    "ExecuteTime": {
     "end_time": "2022-02-11T03:50:33.526921Z",
     "start_time": "2022-02-11T03:50:33.513961Z"
    }
   },
   "outputs": [
    {
     "data": {
      "text/plain": [
       "1    94277.81544\n",
       "dtype: float64"
      ]
     },
     "execution_count": 67,
     "metadata": {},
     "output_type": "execute_result"
    }
   ],
   "source": [
    "final_model.predict(new_data)"
   ]
  },
  {
   "cell_type": "markdown",
   "id": "708e37cd",
   "metadata": {},
   "source": [
    "## \n",
    "For a R&D Spend value of 100000, we will have a Profit of 94277.81544 approx"
   ]
  },
  {
   "cell_type": "code",
   "execution_count": null,
   "id": "147313a4",
   "metadata": {},
   "outputs": [],
   "source": []
  }
 ],
 "metadata": {
  "kernelspec": {
   "display_name": "Python 3",
   "language": "python",
   "name": "python3"
  },
  "language_info": {
   "codemirror_mode": {
    "name": "ipython",
    "version": 3
   },
   "file_extension": ".py",
   "mimetype": "text/x-python",
   "name": "python",
   "nbconvert_exporter": "python",
   "pygments_lexer": "ipython3",
   "version": "3.8.8"
  }
 },
 "nbformat": 4,
 "nbformat_minor": 5
}
